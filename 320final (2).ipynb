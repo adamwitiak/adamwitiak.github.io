{
  "cells": [
    {
      "cell_type": "code",
      "execution_count": null,
      "metadata": {
        "colab": {
          "base_uri": "https://localhost:8080/"
        },
        "id": "T-u6rSPv0svo",
        "outputId": "25155185-8d59-4f4e-a13c-04ef50bde5b6"
      },
      "outputs": [
        {
          "output_type": "stream",
          "name": "stdout",
          "text": [
            "Collecting spotipy\n",
            "  Downloading spotipy-2.19.0-py3-none-any.whl (27 kB)\n",
            "Collecting requests>=2.25.0\n",
            "  Downloading requests-2.27.1-py2.py3-none-any.whl (63 kB)\n",
            "\u001b[K     |████████████████████████████████| 63 kB 490 kB/s \n",
            "\u001b[?25hCollecting urllib3>=1.26.0\n",
            "  Downloading urllib3-1.26.9-py2.py3-none-any.whl (138 kB)\n",
            "\u001b[K     |████████████████████████████████| 138 kB 11.5 MB/s \n",
            "\u001b[?25hRequirement already satisfied: six>=1.15.0 in /usr/local/lib/python3.7/dist-packages (from spotipy) (1.15.0)\n",
            "Requirement already satisfied: idna<4,>=2.5 in /usr/local/lib/python3.7/dist-packages (from requests>=2.25.0->spotipy) (2.10)\n",
            "Requirement already satisfied: charset-normalizer~=2.0.0 in /usr/local/lib/python3.7/dist-packages (from requests>=2.25.0->spotipy) (2.0.12)\n",
            "Requirement already satisfied: certifi>=2017.4.17 in /usr/local/lib/python3.7/dist-packages (from requests>=2.25.0->spotipy) (2021.10.8)\n",
            "Installing collected packages: urllib3, requests, spotipy\n",
            "  Attempting uninstall: urllib3\n",
            "    Found existing installation: urllib3 1.24.3\n",
            "    Uninstalling urllib3-1.24.3:\n",
            "      Successfully uninstalled urllib3-1.24.3\n",
            "  Attempting uninstall: requests\n",
            "    Found existing installation: requests 2.23.0\n",
            "    Uninstalling requests-2.23.0:\n",
            "      Successfully uninstalled requests-2.23.0\n",
            "\u001b[31mERROR: pip's dependency resolver does not currently take into account all the packages that are installed. This behaviour is the source of the following dependency conflicts.\n",
            "google-colab 1.0.0 requires requests~=2.23.0, but you have requests 2.27.1 which is incompatible.\n",
            "datascience 0.10.6 requires folium==0.2.1, but you have folium 0.8.3 which is incompatible.\u001b[0m\n",
            "Successfully installed requests-2.27.1 spotipy-2.19.0 urllib3-1.26.9\n"
          ]
        }
      ],
      "source": [
        "!pip install spotipy"
      ]
    },
    {
      "cell_type": "markdown",
      "source": [
        "# Analyzing Data on Popular Music using Spotify\n",
        "### by Tanaya Jha, Benjamin Rohd, and Adam Witiak\n",
        "***\n",
        "This project is a way to use what we learned about data science and apply it to an interest all of us have in common, music. We learned about Spotify's Web API and wanted to explore the various audio features they collect about each song and how they interact with measures of popularity, genre, and year, and whether there is a meaningful relationship between these factors and Spotify's audio features.\n",
        "\n",
        "\n",
        "## Step 1: Reading in Data\n",
        "First things first, we need to get a dataset. We found a set on [Kaggle](https://www.kaggle.com/) which contains the [Billboard Top 100](https://www.kaggle.com/datasets/dhruvildave/billboard-the-hot-100-songs?resource=download) for every week since 1958. To handle this data, we will need a few libraries:\n",
        "1. [Pandas](https://pandas.pydata.org/), to store the data as a DataFrame, a 2-D array-like structure. Pandas also has other useful methods to handle data.\n",
        "2. os, to store and read files, as well as set environment variables. We will need this later.\n",
        "\n",
        "After downloading the file _charts.csv_ from Kaggle, use the Pandas function [read_csv()](https://pandas.pydata.org/docs/reference/api/pandas.read_csv.html) to put it into a DataFrame."
      ],
      "metadata": {
        "id": "6yY8dZE3PBy5"
      }
    },
    {
      "cell_type": "code",
      "source": [
        "import pandas as pd\n",
        "import os\n",
        "\n",
        "# Read in data\n",
        "data = pd.read_csv('charts.csv')\n",
        "\n",
        "# Get data dimensions\n",
        "print('Shape of dataset (number of entries vs. # of columns):', data.shape)\n",
        "\n",
        "# Show a few example entries\n",
        "data.head()"
      ],
      "metadata": {
        "colab": {
          "base_uri": "https://localhost:8080/",
          "height": 372
        },
        "id": "fcon5Y6QgCWj",
        "outputId": "be146c86-20ba-4ff2-df59-78de55a52cf0"
      },
      "execution_count": null,
      "outputs": [
        {
          "output_type": "stream",
          "name": "stdout",
          "text": [
            "Shape of dataset (number of entries vs. # of columns): (330087, 7)\n"
          ]
        },
        {
          "output_type": "execute_result",
          "data": {
            "text/plain": [
              "         date  rank           song                         artist  last-week  \\\n",
              "0  2021-11-06     1     Easy On Me                          Adele        1.0   \n",
              "1  2021-11-06     2           Stay  The Kid LAROI & Justin Bieber        2.0   \n",
              "2  2021-11-06     3  Industry Baby        Lil Nas X & Jack Harlow        3.0   \n",
              "3  2021-11-06     4     Fancy Like                   Walker Hayes        4.0   \n",
              "4  2021-11-06     5     Bad Habits                     Ed Sheeran        5.0   \n",
              "\n",
              "   peak-rank  weeks-on-board  \n",
              "0          1               3  \n",
              "1          1              16  \n",
              "2          1              14  \n",
              "3          3              19  \n",
              "4          2              18  "
            ],
            "text/html": [
              "\n",
              "  <div id=\"df-7ad0492d-5d86-456f-95a4-6b932f456d15\">\n",
              "    <div class=\"colab-df-container\">\n",
              "      <div>\n",
              "<style scoped>\n",
              "    .dataframe tbody tr th:only-of-type {\n",
              "        vertical-align: middle;\n",
              "    }\n",
              "\n",
              "    .dataframe tbody tr th {\n",
              "        vertical-align: top;\n",
              "    }\n",
              "\n",
              "    .dataframe thead th {\n",
              "        text-align: right;\n",
              "    }\n",
              "</style>\n",
              "<table border=\"1\" class=\"dataframe\">\n",
              "  <thead>\n",
              "    <tr style=\"text-align: right;\">\n",
              "      <th></th>\n",
              "      <th>date</th>\n",
              "      <th>rank</th>\n",
              "      <th>song</th>\n",
              "      <th>artist</th>\n",
              "      <th>last-week</th>\n",
              "      <th>peak-rank</th>\n",
              "      <th>weeks-on-board</th>\n",
              "    </tr>\n",
              "  </thead>\n",
              "  <tbody>\n",
              "    <tr>\n",
              "      <th>0</th>\n",
              "      <td>2021-11-06</td>\n",
              "      <td>1</td>\n",
              "      <td>Easy On Me</td>\n",
              "      <td>Adele</td>\n",
              "      <td>1.0</td>\n",
              "      <td>1</td>\n",
              "      <td>3</td>\n",
              "    </tr>\n",
              "    <tr>\n",
              "      <th>1</th>\n",
              "      <td>2021-11-06</td>\n",
              "      <td>2</td>\n",
              "      <td>Stay</td>\n",
              "      <td>The Kid LAROI &amp; Justin Bieber</td>\n",
              "      <td>2.0</td>\n",
              "      <td>1</td>\n",
              "      <td>16</td>\n",
              "    </tr>\n",
              "    <tr>\n",
              "      <th>2</th>\n",
              "      <td>2021-11-06</td>\n",
              "      <td>3</td>\n",
              "      <td>Industry Baby</td>\n",
              "      <td>Lil Nas X &amp; Jack Harlow</td>\n",
              "      <td>3.0</td>\n",
              "      <td>1</td>\n",
              "      <td>14</td>\n",
              "    </tr>\n",
              "    <tr>\n",
              "      <th>3</th>\n",
              "      <td>2021-11-06</td>\n",
              "      <td>4</td>\n",
              "      <td>Fancy Like</td>\n",
              "      <td>Walker Hayes</td>\n",
              "      <td>4.0</td>\n",
              "      <td>3</td>\n",
              "      <td>19</td>\n",
              "    </tr>\n",
              "    <tr>\n",
              "      <th>4</th>\n",
              "      <td>2021-11-06</td>\n",
              "      <td>5</td>\n",
              "      <td>Bad Habits</td>\n",
              "      <td>Ed Sheeran</td>\n",
              "      <td>5.0</td>\n",
              "      <td>2</td>\n",
              "      <td>18</td>\n",
              "    </tr>\n",
              "  </tbody>\n",
              "</table>\n",
              "</div>\n",
              "      <button class=\"colab-df-convert\" onclick=\"convertToInteractive('df-7ad0492d-5d86-456f-95a4-6b932f456d15')\"\n",
              "              title=\"Convert this dataframe to an interactive table.\"\n",
              "              style=\"display:none;\">\n",
              "        \n",
              "  <svg xmlns=\"http://www.w3.org/2000/svg\" height=\"24px\"viewBox=\"0 0 24 24\"\n",
              "       width=\"24px\">\n",
              "    <path d=\"M0 0h24v24H0V0z\" fill=\"none\"/>\n",
              "    <path d=\"M18.56 5.44l.94 2.06.94-2.06 2.06-.94-2.06-.94-.94-2.06-.94 2.06-2.06.94zm-11 1L8.5 8.5l.94-2.06 2.06-.94-2.06-.94L8.5 2.5l-.94 2.06-2.06.94zm10 10l.94 2.06.94-2.06 2.06-.94-2.06-.94-.94-2.06-.94 2.06-2.06.94z\"/><path d=\"M17.41 7.96l-1.37-1.37c-.4-.4-.92-.59-1.43-.59-.52 0-1.04.2-1.43.59L10.3 9.45l-7.72 7.72c-.78.78-.78 2.05 0 2.83L4 21.41c.39.39.9.59 1.41.59.51 0 1.02-.2 1.41-.59l7.78-7.78 2.81-2.81c.8-.78.8-2.07 0-2.86zM5.41 20L4 18.59l7.72-7.72 1.47 1.35L5.41 20z\"/>\n",
              "  </svg>\n",
              "      </button>\n",
              "      \n",
              "  <style>\n",
              "    .colab-df-container {\n",
              "      display:flex;\n",
              "      flex-wrap:wrap;\n",
              "      gap: 12px;\n",
              "    }\n",
              "\n",
              "    .colab-df-convert {\n",
              "      background-color: #E8F0FE;\n",
              "      border: none;\n",
              "      border-radius: 50%;\n",
              "      cursor: pointer;\n",
              "      display: none;\n",
              "      fill: #1967D2;\n",
              "      height: 32px;\n",
              "      padding: 0 0 0 0;\n",
              "      width: 32px;\n",
              "    }\n",
              "\n",
              "    .colab-df-convert:hover {\n",
              "      background-color: #E2EBFA;\n",
              "      box-shadow: 0px 1px 2px rgba(60, 64, 67, 0.3), 0px 1px 3px 1px rgba(60, 64, 67, 0.15);\n",
              "      fill: #174EA6;\n",
              "    }\n",
              "\n",
              "    [theme=dark] .colab-df-convert {\n",
              "      background-color: #3B4455;\n",
              "      fill: #D2E3FC;\n",
              "    }\n",
              "\n",
              "    [theme=dark] .colab-df-convert:hover {\n",
              "      background-color: #434B5C;\n",
              "      box-shadow: 0px 1px 3px 1px rgba(0, 0, 0, 0.15);\n",
              "      filter: drop-shadow(0px 1px 2px rgba(0, 0, 0, 0.3));\n",
              "      fill: #FFFFFF;\n",
              "    }\n",
              "  </style>\n",
              "\n",
              "      <script>\n",
              "        const buttonEl =\n",
              "          document.querySelector('#df-7ad0492d-5d86-456f-95a4-6b932f456d15 button.colab-df-convert');\n",
              "        buttonEl.style.display =\n",
              "          google.colab.kernel.accessAllowed ? 'block' : 'none';\n",
              "\n",
              "        async function convertToInteractive(key) {\n",
              "          const element = document.querySelector('#df-7ad0492d-5d86-456f-95a4-6b932f456d15');\n",
              "          const dataTable =\n",
              "            await google.colab.kernel.invokeFunction('convertToInteractive',\n",
              "                                                     [key], {});\n",
              "          if (!dataTable) return;\n",
              "\n",
              "          const docLinkHtml = 'Like what you see? Visit the ' +\n",
              "            '<a target=\"_blank\" href=https://colab.research.google.com/notebooks/data_table.ipynb>data table notebook</a>'\n",
              "            + ' to learn more about interactive tables.';\n",
              "          element.innerHTML = '';\n",
              "          dataTable['output_type'] = 'display_data';\n",
              "          await google.colab.output.renderOutput(dataTable, element);\n",
              "          const docLink = document.createElement('div');\n",
              "          docLink.innerHTML = docLinkHtml;\n",
              "          element.appendChild(docLink);\n",
              "        }\n",
              "      </script>\n",
              "    </div>\n",
              "  </div>\n",
              "  "
            ]
          },
          "metadata": {},
          "execution_count": 3
        }
      ]
    },
    {
      "cell_type": "markdown",
      "source": [
        "Now that we've read in the data, we can take a look at the different fields available to us. \n",
        "1. Date, the current week.\n",
        "1. Rank, a song's ranking in the top 100.\n",
        "1. Song, the song title.\n",
        "1. Artist, who made the song. _Note: there may be multiple artists._\n",
        "1. Last week, which was the ranking of the song in the previous week.\n",
        "1. Peak rank, the highest rank in the top 100 the song has achieved.\n",
        "1. Weeks on board, the number of weeks the song has stayed on the chart.\n",
        "\n",
        "In total, we have 330,087 entries in the DataFrame."
      ],
      "metadata": {
        "id": "RkFH6_spgnP3"
      }
    },
    {
      "cell_type": "markdown",
      "source": [
        "## Step 2: Scraping and Refining from Spotify using SpotiPy\n",
        "This data is great, but we want to get data on the songs themselves. Luckily, Spotify has a lot of useful data on music. Traits such as danceability, energy, instrumentalness, and loudness are calculated on each song and are accessible via a URI. This URI is unique to each song. _(You can read more about Spotify's audio features [here](https://developer.spotify.com/documentation/web-api/reference/#/operations/get-several-audio-features).)_\n",
        "\n",
        "To access the Spotify API, we use [SpotiPy](https://spotipy.readthedocs.io/en/2.19.0/#), a python library specifically crafted for interacting with Spotify. It handles all the backend of data requests, token refreshing, and other caveats then wraps everything in methods. To use it, you need a Spotify developer project, which can be created using [this tutorial](https://medium.com/@maxtingle/getting-started-with-spotifys-api-spotipy-197c3dc6353b). SpotiPy requires that certain tokens are set as environment variables.\n",
        "\n",
        "TODO: remove client id and client secret id"
      ],
      "metadata": {
        "id": "GTq4rUPBgvbK"
      }
    },
    {
      "cell_type": "code",
      "source": [
        "import spotipy\n",
        "from spotipy.oauth2 import SpotifyClientCredentials\n",
        "\n",
        "# Set environment variables\n",
        "os.environ[\"SPOTIPY_CLIENT_ID\"] = \"7f287679297447909a88fffe9fbeeede\"\n",
        "os.environ[\"SPOTIPY_CLIENT_SECRET\"] = \"51d3986a7ab34179ae6f30b16882c7db\"\n",
        "\n",
        "# Create spotify object\n",
        "sp = spotipy.Spotify(client_credentials_manager=SpotifyClientCredentials())"
      ],
      "metadata": {
        "id": "MheuHHJZg0RM"
      },
      "execution_count": null,
      "outputs": []
    },
    {
      "cell_type": "markdown",
      "source": [
        "For each of the songs in our DataFrame, we need to:\n",
        "1. Search the song on Spotify, to get the song URI.\n",
        "2. Use that URI to get the audio features of the song.\n",
        "\n",
        "We created a function called get_song_data to accomplish this, then applied it to every row of the DataFrame using Pandas' [apply()](https://pandas.pydata.org/docs/reference/api/pandas.DataFrame.apply.html) method."
      ],
      "metadata": {
        "id": "S2CeQd2sg3qR"
      }
    },
    {
      "cell_type": "code",
      "source": [
        "def get_song_data(row):  \n",
        "    # Pull out each row's song and artist name\n",
        "    song = row['song']\n",
        "    artist = row['artist']\n",
        "    \n",
        "    # Will be filled with the URI and audio features\n",
        "    data_list = []\n",
        "    \n",
        "    # Search for the song on Spotify: exactly like a user would do when using the actual app\n",
        "    res1 = sp.search(q='track:'+song+' artist:'+artist[:5],type='track')['tracks']['items']\n",
        "    \n",
        "    # Check if a song is returned from the search\n",
        "    if len(res1) == 0: # if no song found:\n",
        "        uri = pd.NA\n",
        "        for i in range(0,10): # Create a 10 feature vector of NA's\n",
        "            data_list.append(pd.NA)\n",
        "    else: # if a song is found:\n",
        "        # Extract URI\n",
        "        uri = res1[0]['uri']\n",
        "        \n",
        "        # From the URI, get the song's audio features\n",
        "        res2 = sp.audio_features(uri)[0] # Create a 10 feature vector of all the features (including URI)\n",
        "        \n",
        "        # Return audio features\n",
        "        data_list=[uri, res2['danceability'], res2['energy'], res2['loudness'], res2['speechiness'], res2['acousticness'], res2['instrumentalness'], res2['liveness'], res2['valence'], res2['tempo']]\n",
        "    return data_list"
      ],
      "metadata": {
        "id": "MiYZMu9Ig-ff"
      },
      "execution_count": null,
      "outputs": []
    },
    {
      "cell_type": "markdown",
      "source": [
        "When we run this code thousands of times for every song, we are relying on the fact that Spotify's API does not return any bad requests that would stop our code from running. To circumvent this issue, we split the data into chunks (so we do not lose all our progress if something goes wrong) and use error handling to restart our code."
      ],
      "metadata": {
        "id": "DMO1TbP5hBjB"
      }
    },
    {
      "cell_type": "code",
      "source": [
        "'''\n",
        "    chunk: Splits a DataFrame into chunks of a certain size.\n",
        "    \n",
        "    Parameters:\n",
        "        df: the DataFrame to be split.\n",
        "        chunk_size: the requested size of each chunk. Default: 1000\n",
        "        \n",
        "    Returns: a list of DataFrames of length chunk_size. The last DataFrame may be shorter than chunk_size.\n",
        "'''\n",
        "\n",
        "def chunk(df, chunk_size = 1000):\n",
        "    df_chunks = []\n",
        "\n",
        "    for i in range(int(df.shape[0] / chunk_size)+1):\n",
        "        df_chunks.append(df.iloc[(i * chunk_size):((i+1) * chunk_size),:])\n",
        "        \n",
        "    return df_chunks"
      ],
      "metadata": {
        "id": "u8tlKkxLhF5h"
      },
      "execution_count": null,
      "outputs": []
    },
    {
      "cell_type": "markdown",
      "source": [
        "The next chunk of code is slightly bulky so here's an explanation:\n",
        "\n",
        "The initial block with for loops checks which chunks have already been run through the algorithm. It makes sure that if we run this code again, we are not getting the song URIs for songs we have already seen.\n",
        "\n",
        "The method getAudio is where most of the magic happens. It loops through the chunks, gets the URIs and audio features, stores it in new columns of each dataFrame, and then stores it in a data folder specified by the data_folder variable. The except statement restarts the program if something goes wrong (i.e., Spotify API times out)."
      ],
      "metadata": {
        "id": "DI76mQXwhJY_"
      }
    },
    {
      "cell_type": "code",
      "source": [
        "import re\n",
        "curr_num = -1\n",
        "data_folder = \"./data_2017\"\n",
        "\n",
        "# Check what files have been created so far\n",
        "for root, dirs, files in os.walk(data_folder, topdown=False):\n",
        "    for name in files:\n",
        "        \n",
        "        # If a data file is found, get its number\n",
        "        r = re.search('^data(\\d{1,2})',name)\n",
        "        if r != None and int(r.group(1)) > curr_num:\n",
        "            # Update the current number\n",
        "            curr_num = int(r.group(1))\n",
        "            \n",
        "print(curr_num)\n",
        "            \n",
        "def getAudio(data, num):\n",
        "    try:\n",
        "        # Loop through chunks\n",
        "        for i,df in enumerate(data):\n",
        "            \n",
        "            # If the file for that chunk has not been created\n",
        "            if (i > num):\n",
        "                # Apply get_song_data to each song, create new columns\n",
        "                df[['uri', 'danceability','energy','loudness','speechiness','acousticness','instrumentalness','liveness', 'valence', 'tempo']] = df.apply(get_song_data,result_type='expand', axis=1)\n",
        "                \n",
        "                # Write the data to a file\n",
        "                df.to_csv('data'+str(i)+'.csv')\n",
        "                print('data'+str(i)+'.csv created')\n",
        "            else:\n",
        "                print(i,'already created')\n",
        "    except Exception as e:\n",
        "        # Handles the exception. Updates the current number and recalls the function\n",
        "        \n",
        "        print('---EXCEPTION---')\n",
        "        # Check what files have already been created\n",
        "        for root, dirs, files in os.walk(\".\", topdown=False):\n",
        "            for name in files:\n",
        "                r = re.search('^data(\\d{1,3})',name)\n",
        "                if r != None and int(r.group(1)) > num:\n",
        "                    num = int(r.group(1))\n",
        "        print('retrying')\n",
        "        getAudio(data, num)\n",
        "\n",
        "getAudio(chunk(data), curr_num)"
      ],
      "metadata": {
        "colab": {
          "base_uri": "https://localhost:8080/",
          "height": 381
        },
        "id": "-AncCwA2h8CH",
        "outputId": "17b21656-f8ee-4106-c631-fa74d27d82d5"
      },
      "execution_count": null,
      "outputs": [
        {
          "output_type": "stream",
          "name": "stdout",
          "text": [
            "-1\n"
          ]
        },
        {
          "output_type": "error",
          "ename": "KeyboardInterrupt",
          "evalue": "ignored",
          "traceback": [
            "\u001b[0;31m---------------------------------------------------------------------------\u001b[0m",
            "\u001b[0;31mKeyboardInterrupt\u001b[0m                         Traceback (most recent call last)",
            "\u001b[0;32m<ipython-input-7-46e7a6c8f62b>\u001b[0m in \u001b[0;36m<module>\u001b[0;34m()\u001b[0m\n\u001b[1;32m     43\u001b[0m         \u001b[0mgetAudio\u001b[0m\u001b[0;34m(\u001b[0m\u001b[0mdata\u001b[0m\u001b[0;34m,\u001b[0m \u001b[0mnum\u001b[0m\u001b[0;34m)\u001b[0m\u001b[0;34m\u001b[0m\u001b[0;34m\u001b[0m\u001b[0m\n\u001b[1;32m     44\u001b[0m \u001b[0;34m\u001b[0m\u001b[0m\n\u001b[0;32m---> 45\u001b[0;31m \u001b[0mgetAudio\u001b[0m\u001b[0;34m(\u001b[0m\u001b[0mchunk\u001b[0m\u001b[0;34m(\u001b[0m\u001b[0mdata\u001b[0m\u001b[0;34m)\u001b[0m\u001b[0;34m,\u001b[0m \u001b[0mcurr_num\u001b[0m\u001b[0;34m)\u001b[0m\u001b[0;34m\u001b[0m\u001b[0;34m\u001b[0m\u001b[0m\n\u001b[0m",
            "\u001b[0;32m<ipython-input-7-46e7a6c8f62b>\u001b[0m in \u001b[0;36mgetAudio\u001b[0;34m(data, num)\u001b[0m\n\u001b[1;32m     23\u001b[0m             \u001b[0;32mif\u001b[0m \u001b[0;34m(\u001b[0m\u001b[0mi\u001b[0m \u001b[0;34m>\u001b[0m \u001b[0mnum\u001b[0m\u001b[0;34m)\u001b[0m\u001b[0;34m:\u001b[0m\u001b[0;34m\u001b[0m\u001b[0;34m\u001b[0m\u001b[0m\n\u001b[1;32m     24\u001b[0m                 \u001b[0;31m# Apply get_song_data to each song, create new columns\u001b[0m\u001b[0;34m\u001b[0m\u001b[0;34m\u001b[0m\u001b[0;34m\u001b[0m\u001b[0m\n\u001b[0;32m---> 25\u001b[0;31m                 \u001b[0mdf\u001b[0m\u001b[0;34m[\u001b[0m\u001b[0;34m[\u001b[0m\u001b[0;34m'uri'\u001b[0m\u001b[0;34m,\u001b[0m \u001b[0;34m'danceability'\u001b[0m\u001b[0;34m,\u001b[0m\u001b[0;34m'energy'\u001b[0m\u001b[0;34m,\u001b[0m\u001b[0;34m'loudness'\u001b[0m\u001b[0;34m,\u001b[0m\u001b[0;34m'speechiness'\u001b[0m\u001b[0;34m,\u001b[0m\u001b[0;34m'acousticness'\u001b[0m\u001b[0;34m,\u001b[0m\u001b[0;34m'instrumentalness'\u001b[0m\u001b[0;34m,\u001b[0m\u001b[0;34m'liveness'\u001b[0m\u001b[0;34m,\u001b[0m \u001b[0;34m'valence'\u001b[0m\u001b[0;34m,\u001b[0m \u001b[0;34m'tempo'\u001b[0m\u001b[0;34m]\u001b[0m\u001b[0;34m]\u001b[0m \u001b[0;34m=\u001b[0m \u001b[0mdf\u001b[0m\u001b[0;34m.\u001b[0m\u001b[0mapply\u001b[0m\u001b[0;34m(\u001b[0m\u001b[0mget_song_data\u001b[0m\u001b[0;34m,\u001b[0m\u001b[0mresult_type\u001b[0m\u001b[0;34m=\u001b[0m\u001b[0;34m'expand'\u001b[0m\u001b[0;34m,\u001b[0m \u001b[0maxis\u001b[0m\u001b[0;34m=\u001b[0m\u001b[0;36m1\u001b[0m\u001b[0;34m)\u001b[0m\u001b[0;34m\u001b[0m\u001b[0;34m\u001b[0m\u001b[0m\n\u001b[0m\u001b[1;32m     26\u001b[0m \u001b[0;34m\u001b[0m\u001b[0m\n\u001b[1;32m     27\u001b[0m                 \u001b[0;31m# Write the data to a file\u001b[0m\u001b[0;34m\u001b[0m\u001b[0;34m\u001b[0m\u001b[0;34m\u001b[0m\u001b[0m\n",
            "\u001b[0;32m/usr/local/lib/python3.7/dist-packages/pandas/core/frame.py\u001b[0m in \u001b[0;36mapply\u001b[0;34m(self, func, axis, raw, result_type, args, **kwargs)\u001b[0m\n\u001b[1;32m   8738\u001b[0m             \u001b[0mkwargs\u001b[0m\u001b[0;34m=\u001b[0m\u001b[0mkwargs\u001b[0m\u001b[0;34m,\u001b[0m\u001b[0;34m\u001b[0m\u001b[0;34m\u001b[0m\u001b[0m\n\u001b[1;32m   8739\u001b[0m         )\n\u001b[0;32m-> 8740\u001b[0;31m         \u001b[0;32mreturn\u001b[0m \u001b[0mop\u001b[0m\u001b[0;34m.\u001b[0m\u001b[0mapply\u001b[0m\u001b[0;34m(\u001b[0m\u001b[0;34m)\u001b[0m\u001b[0;34m\u001b[0m\u001b[0;34m\u001b[0m\u001b[0m\n\u001b[0m\u001b[1;32m   8741\u001b[0m \u001b[0;34m\u001b[0m\u001b[0m\n\u001b[1;32m   8742\u001b[0m     def applymap(\n",
            "\u001b[0;32m/usr/local/lib/python3.7/dist-packages/pandas/core/apply.py\u001b[0m in \u001b[0;36mapply\u001b[0;34m(self)\u001b[0m\n\u001b[1;32m    686\u001b[0m             \u001b[0;32mreturn\u001b[0m \u001b[0mself\u001b[0m\u001b[0;34m.\u001b[0m\u001b[0mapply_raw\u001b[0m\u001b[0;34m(\u001b[0m\u001b[0;34m)\u001b[0m\u001b[0;34m\u001b[0m\u001b[0;34m\u001b[0m\u001b[0m\n\u001b[1;32m    687\u001b[0m \u001b[0;34m\u001b[0m\u001b[0m\n\u001b[0;32m--> 688\u001b[0;31m         \u001b[0;32mreturn\u001b[0m \u001b[0mself\u001b[0m\u001b[0;34m.\u001b[0m\u001b[0mapply_standard\u001b[0m\u001b[0;34m(\u001b[0m\u001b[0;34m)\u001b[0m\u001b[0;34m\u001b[0m\u001b[0;34m\u001b[0m\u001b[0m\n\u001b[0m\u001b[1;32m    689\u001b[0m \u001b[0;34m\u001b[0m\u001b[0m\n\u001b[1;32m    690\u001b[0m     \u001b[0;32mdef\u001b[0m \u001b[0magg\u001b[0m\u001b[0;34m(\u001b[0m\u001b[0mself\u001b[0m\u001b[0;34m)\u001b[0m\u001b[0;34m:\u001b[0m\u001b[0;34m\u001b[0m\u001b[0;34m\u001b[0m\u001b[0m\n",
            "\u001b[0;32m/usr/local/lib/python3.7/dist-packages/pandas/core/apply.py\u001b[0m in \u001b[0;36mapply_standard\u001b[0;34m(self)\u001b[0m\n\u001b[1;32m    810\u001b[0m \u001b[0;34m\u001b[0m\u001b[0m\n\u001b[1;32m    811\u001b[0m     \u001b[0;32mdef\u001b[0m \u001b[0mapply_standard\u001b[0m\u001b[0;34m(\u001b[0m\u001b[0mself\u001b[0m\u001b[0;34m)\u001b[0m\u001b[0;34m:\u001b[0m\u001b[0;34m\u001b[0m\u001b[0;34m\u001b[0m\u001b[0m\n\u001b[0;32m--> 812\u001b[0;31m         \u001b[0mresults\u001b[0m\u001b[0;34m,\u001b[0m \u001b[0mres_index\u001b[0m \u001b[0;34m=\u001b[0m \u001b[0mself\u001b[0m\u001b[0;34m.\u001b[0m\u001b[0mapply_series_generator\u001b[0m\u001b[0;34m(\u001b[0m\u001b[0;34m)\u001b[0m\u001b[0;34m\u001b[0m\u001b[0;34m\u001b[0m\u001b[0m\n\u001b[0m\u001b[1;32m    813\u001b[0m \u001b[0;34m\u001b[0m\u001b[0m\n\u001b[1;32m    814\u001b[0m         \u001b[0;31m# wrap results\u001b[0m\u001b[0;34m\u001b[0m\u001b[0;34m\u001b[0m\u001b[0;34m\u001b[0m\u001b[0m\n",
            "\u001b[0;32m/usr/local/lib/python3.7/dist-packages/pandas/core/apply.py\u001b[0m in \u001b[0;36mapply_series_generator\u001b[0;34m(self)\u001b[0m\n\u001b[1;32m    826\u001b[0m             \u001b[0;32mfor\u001b[0m \u001b[0mi\u001b[0m\u001b[0;34m,\u001b[0m \u001b[0mv\u001b[0m \u001b[0;32min\u001b[0m \u001b[0menumerate\u001b[0m\u001b[0;34m(\u001b[0m\u001b[0mseries_gen\u001b[0m\u001b[0;34m)\u001b[0m\u001b[0;34m:\u001b[0m\u001b[0;34m\u001b[0m\u001b[0;34m\u001b[0m\u001b[0m\n\u001b[1;32m    827\u001b[0m                 \u001b[0;31m# ignore SettingWithCopy here in case the user mutates\u001b[0m\u001b[0;34m\u001b[0m\u001b[0;34m\u001b[0m\u001b[0;34m\u001b[0m\u001b[0m\n\u001b[0;32m--> 828\u001b[0;31m                 \u001b[0mresults\u001b[0m\u001b[0;34m[\u001b[0m\u001b[0mi\u001b[0m\u001b[0;34m]\u001b[0m \u001b[0;34m=\u001b[0m \u001b[0mself\u001b[0m\u001b[0;34m.\u001b[0m\u001b[0mf\u001b[0m\u001b[0;34m(\u001b[0m\u001b[0mv\u001b[0m\u001b[0;34m)\u001b[0m\u001b[0;34m\u001b[0m\u001b[0;34m\u001b[0m\u001b[0m\n\u001b[0m\u001b[1;32m    829\u001b[0m                 \u001b[0;32mif\u001b[0m \u001b[0misinstance\u001b[0m\u001b[0;34m(\u001b[0m\u001b[0mresults\u001b[0m\u001b[0;34m[\u001b[0m\u001b[0mi\u001b[0m\u001b[0;34m]\u001b[0m\u001b[0;34m,\u001b[0m \u001b[0mABCSeries\u001b[0m\u001b[0;34m)\u001b[0m\u001b[0;34m:\u001b[0m\u001b[0;34m\u001b[0m\u001b[0;34m\u001b[0m\u001b[0m\n\u001b[1;32m    830\u001b[0m                     \u001b[0;31m# If we have a view on v, we need to make a copy because\u001b[0m\u001b[0;34m\u001b[0m\u001b[0;34m\u001b[0m\u001b[0;34m\u001b[0m\u001b[0m\n",
            "\u001b[0;32m<ipython-input-5-37f4e453eecf>\u001b[0m in \u001b[0;36mget_song_data\u001b[0;34m(row)\u001b[0m\n\u001b[1;32m     20\u001b[0m \u001b[0;34m\u001b[0m\u001b[0m\n\u001b[1;32m     21\u001b[0m         \u001b[0;31m# From the URI, get the song's audio features\u001b[0m\u001b[0;34m\u001b[0m\u001b[0;34m\u001b[0m\u001b[0;34m\u001b[0m\u001b[0m\n\u001b[0;32m---> 22\u001b[0;31m         \u001b[0mres2\u001b[0m \u001b[0;34m=\u001b[0m \u001b[0msp\u001b[0m\u001b[0;34m.\u001b[0m\u001b[0maudio_features\u001b[0m\u001b[0;34m(\u001b[0m\u001b[0muri\u001b[0m\u001b[0;34m)\u001b[0m\u001b[0;34m[\u001b[0m\u001b[0;36m0\u001b[0m\u001b[0;34m]\u001b[0m \u001b[0;31m# Create a 10 feature vector of all the features (including URI)\u001b[0m\u001b[0;34m\u001b[0m\u001b[0;34m\u001b[0m\u001b[0m\n\u001b[0m\u001b[1;32m     23\u001b[0m \u001b[0;34m\u001b[0m\u001b[0m\n\u001b[1;32m     24\u001b[0m         \u001b[0;31m# Return audio features\u001b[0m\u001b[0;34m\u001b[0m\u001b[0;34m\u001b[0m\u001b[0;34m\u001b[0m\u001b[0m\n",
            "\u001b[0;32m/usr/local/lib/python3.7/dist-packages/spotipy/client.py\u001b[0m in \u001b[0;36maudio_features\u001b[0;34m(self, tracks)\u001b[0m\n\u001b[1;32m   1678\u001b[0m         \u001b[0;32mif\u001b[0m \u001b[0misinstance\u001b[0m\u001b[0;34m(\u001b[0m\u001b[0mtracks\u001b[0m\u001b[0;34m,\u001b[0m \u001b[0mstr\u001b[0m\u001b[0;34m)\u001b[0m\u001b[0;34m:\u001b[0m\u001b[0;34m\u001b[0m\u001b[0;34m\u001b[0m\u001b[0m\n\u001b[1;32m   1679\u001b[0m             \u001b[0mtrackid\u001b[0m \u001b[0;34m=\u001b[0m \u001b[0mself\u001b[0m\u001b[0;34m.\u001b[0m\u001b[0m_get_id\u001b[0m\u001b[0;34m(\u001b[0m\u001b[0;34m\"track\"\u001b[0m\u001b[0;34m,\u001b[0m \u001b[0mtracks\u001b[0m\u001b[0;34m)\u001b[0m\u001b[0;34m\u001b[0m\u001b[0;34m\u001b[0m\u001b[0m\n\u001b[0;32m-> 1680\u001b[0;31m             \u001b[0mresults\u001b[0m \u001b[0;34m=\u001b[0m \u001b[0mself\u001b[0m\u001b[0;34m.\u001b[0m\u001b[0m_get\u001b[0m\u001b[0;34m(\u001b[0m\u001b[0;34m\"audio-features/?ids=\"\u001b[0m \u001b[0;34m+\u001b[0m \u001b[0mtrackid\u001b[0m\u001b[0;34m)\u001b[0m\u001b[0;34m\u001b[0m\u001b[0;34m\u001b[0m\u001b[0m\n\u001b[0m\u001b[1;32m   1681\u001b[0m         \u001b[0;32melse\u001b[0m\u001b[0;34m:\u001b[0m\u001b[0;34m\u001b[0m\u001b[0;34m\u001b[0m\u001b[0m\n\u001b[1;32m   1682\u001b[0m             \u001b[0mtlist\u001b[0m \u001b[0;34m=\u001b[0m \u001b[0;34m[\u001b[0m\u001b[0mself\u001b[0m\u001b[0;34m.\u001b[0m\u001b[0m_get_id\u001b[0m\u001b[0;34m(\u001b[0m\u001b[0;34m\"track\"\u001b[0m\u001b[0;34m,\u001b[0m \u001b[0mt\u001b[0m\u001b[0;34m)\u001b[0m \u001b[0;32mfor\u001b[0m \u001b[0mt\u001b[0m \u001b[0;32min\u001b[0m \u001b[0mtracks\u001b[0m\u001b[0;34m]\u001b[0m\u001b[0;34m\u001b[0m\u001b[0;34m\u001b[0m\u001b[0m\n",
            "\u001b[0;32m/usr/local/lib/python3.7/dist-packages/spotipy/client.py\u001b[0m in \u001b[0;36m_get\u001b[0;34m(self, url, args, payload, **kwargs)\u001b[0m\n\u001b[1;32m    295\u001b[0m             \u001b[0mkwargs\u001b[0m\u001b[0;34m.\u001b[0m\u001b[0mupdate\u001b[0m\u001b[0;34m(\u001b[0m\u001b[0margs\u001b[0m\u001b[0;34m)\u001b[0m\u001b[0;34m\u001b[0m\u001b[0;34m\u001b[0m\u001b[0m\n\u001b[1;32m    296\u001b[0m \u001b[0;34m\u001b[0m\u001b[0m\n\u001b[0;32m--> 297\u001b[0;31m         \u001b[0;32mreturn\u001b[0m \u001b[0mself\u001b[0m\u001b[0;34m.\u001b[0m\u001b[0m_internal_call\u001b[0m\u001b[0;34m(\u001b[0m\u001b[0;34m\"GET\"\u001b[0m\u001b[0;34m,\u001b[0m \u001b[0murl\u001b[0m\u001b[0;34m,\u001b[0m \u001b[0mpayload\u001b[0m\u001b[0;34m,\u001b[0m \u001b[0mkwargs\u001b[0m\u001b[0;34m)\u001b[0m\u001b[0;34m\u001b[0m\u001b[0;34m\u001b[0m\u001b[0m\n\u001b[0m\u001b[1;32m    298\u001b[0m \u001b[0;34m\u001b[0m\u001b[0m\n\u001b[1;32m    299\u001b[0m     \u001b[0;32mdef\u001b[0m \u001b[0m_post\u001b[0m\u001b[0;34m(\u001b[0m\u001b[0mself\u001b[0m\u001b[0;34m,\u001b[0m \u001b[0murl\u001b[0m\u001b[0;34m,\u001b[0m \u001b[0margs\u001b[0m\u001b[0;34m=\u001b[0m\u001b[0;32mNone\u001b[0m\u001b[0;34m,\u001b[0m \u001b[0mpayload\u001b[0m\u001b[0;34m=\u001b[0m\u001b[0;32mNone\u001b[0m\u001b[0;34m,\u001b[0m \u001b[0;34m**\u001b[0m\u001b[0mkwargs\u001b[0m\u001b[0;34m)\u001b[0m\u001b[0;34m:\u001b[0m\u001b[0;34m\u001b[0m\u001b[0;34m\u001b[0m\u001b[0m\n",
            "\u001b[0;32m/usr/local/lib/python3.7/dist-packages/spotipy/client.py\u001b[0m in \u001b[0;36m_internal_call\u001b[0;34m(self, method, url, payload, params)\u001b[0m\n\u001b[1;32m    240\u001b[0m             response = self._session.request(\n\u001b[1;32m    241\u001b[0m                 \u001b[0mmethod\u001b[0m\u001b[0;34m,\u001b[0m \u001b[0murl\u001b[0m\u001b[0;34m,\u001b[0m \u001b[0mheaders\u001b[0m\u001b[0;34m=\u001b[0m\u001b[0mheaders\u001b[0m\u001b[0;34m,\u001b[0m \u001b[0mproxies\u001b[0m\u001b[0;34m=\u001b[0m\u001b[0mself\u001b[0m\u001b[0;34m.\u001b[0m\u001b[0mproxies\u001b[0m\u001b[0;34m,\u001b[0m\u001b[0;34m\u001b[0m\u001b[0;34m\u001b[0m\u001b[0m\n\u001b[0;32m--> 242\u001b[0;31m                 \u001b[0mtimeout\u001b[0m\u001b[0;34m=\u001b[0m\u001b[0mself\u001b[0m\u001b[0;34m.\u001b[0m\u001b[0mrequests_timeout\u001b[0m\u001b[0;34m,\u001b[0m \u001b[0;34m**\u001b[0m\u001b[0margs\u001b[0m\u001b[0;34m\u001b[0m\u001b[0;34m\u001b[0m\u001b[0m\n\u001b[0m\u001b[1;32m    243\u001b[0m             )\n\u001b[1;32m    244\u001b[0m \u001b[0;34m\u001b[0m\u001b[0m\n",
            "\u001b[0;32m/usr/local/lib/python3.7/dist-packages/requests/sessions.py\u001b[0m in \u001b[0;36mrequest\u001b[0;34m(self, method, url, params, data, headers, cookies, files, auth, timeout, allow_redirects, proxies, hooks, stream, verify, cert, json)\u001b[0m\n\u001b[1;32m    527\u001b[0m         }\n\u001b[1;32m    528\u001b[0m         \u001b[0msend_kwargs\u001b[0m\u001b[0;34m.\u001b[0m\u001b[0mupdate\u001b[0m\u001b[0;34m(\u001b[0m\u001b[0msettings\u001b[0m\u001b[0;34m)\u001b[0m\u001b[0;34m\u001b[0m\u001b[0;34m\u001b[0m\u001b[0m\n\u001b[0;32m--> 529\u001b[0;31m         \u001b[0mresp\u001b[0m \u001b[0;34m=\u001b[0m \u001b[0mself\u001b[0m\u001b[0;34m.\u001b[0m\u001b[0msend\u001b[0m\u001b[0;34m(\u001b[0m\u001b[0mprep\u001b[0m\u001b[0;34m,\u001b[0m \u001b[0;34m**\u001b[0m\u001b[0msend_kwargs\u001b[0m\u001b[0;34m)\u001b[0m\u001b[0;34m\u001b[0m\u001b[0;34m\u001b[0m\u001b[0m\n\u001b[0m\u001b[1;32m    530\u001b[0m \u001b[0;34m\u001b[0m\u001b[0m\n\u001b[1;32m    531\u001b[0m         \u001b[0;32mreturn\u001b[0m \u001b[0mresp\u001b[0m\u001b[0;34m\u001b[0m\u001b[0;34m\u001b[0m\u001b[0m\n",
            "\u001b[0;32m/usr/local/lib/python3.7/dist-packages/requests/sessions.py\u001b[0m in \u001b[0;36msend\u001b[0;34m(self, request, **kwargs)\u001b[0m\n\u001b[1;32m    643\u001b[0m \u001b[0;34m\u001b[0m\u001b[0m\n\u001b[1;32m    644\u001b[0m         \u001b[0;31m# Send the request\u001b[0m\u001b[0;34m\u001b[0m\u001b[0;34m\u001b[0m\u001b[0;34m\u001b[0m\u001b[0m\n\u001b[0;32m--> 645\u001b[0;31m         \u001b[0mr\u001b[0m \u001b[0;34m=\u001b[0m \u001b[0madapter\u001b[0m\u001b[0;34m.\u001b[0m\u001b[0msend\u001b[0m\u001b[0;34m(\u001b[0m\u001b[0mrequest\u001b[0m\u001b[0;34m,\u001b[0m \u001b[0;34m**\u001b[0m\u001b[0mkwargs\u001b[0m\u001b[0;34m)\u001b[0m\u001b[0;34m\u001b[0m\u001b[0;34m\u001b[0m\u001b[0m\n\u001b[0m\u001b[1;32m    646\u001b[0m \u001b[0;34m\u001b[0m\u001b[0m\n\u001b[1;32m    647\u001b[0m         \u001b[0;31m# Total elapsed time of the request (approximately)\u001b[0m\u001b[0;34m\u001b[0m\u001b[0;34m\u001b[0m\u001b[0;34m\u001b[0m\u001b[0m\n",
            "\u001b[0;32m/usr/local/lib/python3.7/dist-packages/requests/adapters.py\u001b[0m in \u001b[0;36msend\u001b[0;34m(self, request, stream, timeout, verify, cert, proxies)\u001b[0m\n\u001b[1;32m    448\u001b[0m                     \u001b[0mdecode_content\u001b[0m\u001b[0;34m=\u001b[0m\u001b[0;32mFalse\u001b[0m\u001b[0;34m,\u001b[0m\u001b[0;34m\u001b[0m\u001b[0;34m\u001b[0m\u001b[0m\n\u001b[1;32m    449\u001b[0m                     \u001b[0mretries\u001b[0m\u001b[0;34m=\u001b[0m\u001b[0mself\u001b[0m\u001b[0;34m.\u001b[0m\u001b[0mmax_retries\u001b[0m\u001b[0;34m,\u001b[0m\u001b[0;34m\u001b[0m\u001b[0;34m\u001b[0m\u001b[0m\n\u001b[0;32m--> 450\u001b[0;31m                     \u001b[0mtimeout\u001b[0m\u001b[0;34m=\u001b[0m\u001b[0mtimeout\u001b[0m\u001b[0;34m\u001b[0m\u001b[0;34m\u001b[0m\u001b[0m\n\u001b[0m\u001b[1;32m    451\u001b[0m                 )\n\u001b[1;32m    452\u001b[0m \u001b[0;34m\u001b[0m\u001b[0m\n",
            "\u001b[0;32m/usr/local/lib/python3.7/dist-packages/urllib3/connectionpool.py\u001b[0m in \u001b[0;36murlopen\u001b[0;34m(self, method, url, body, headers, retries, redirect, assert_same_host, timeout, pool_timeout, release_conn, chunked, body_pos, **response_kw)\u001b[0m\n\u001b[1;32m    872\u001b[0m \u001b[0;34m\u001b[0m\u001b[0m\n\u001b[1;32m    873\u001b[0m             \u001b[0mresponse\u001b[0m\u001b[0;34m.\u001b[0m\u001b[0mdrain_conn\u001b[0m\u001b[0;34m(\u001b[0m\u001b[0;34m)\u001b[0m\u001b[0;34m\u001b[0m\u001b[0;34m\u001b[0m\u001b[0m\n\u001b[0;32m--> 874\u001b[0;31m             \u001b[0mretries\u001b[0m\u001b[0;34m.\u001b[0m\u001b[0msleep\u001b[0m\u001b[0;34m(\u001b[0m\u001b[0mresponse\u001b[0m\u001b[0;34m)\u001b[0m\u001b[0;34m\u001b[0m\u001b[0;34m\u001b[0m\u001b[0m\n\u001b[0m\u001b[1;32m    875\u001b[0m             \u001b[0mlog\u001b[0m\u001b[0;34m.\u001b[0m\u001b[0mdebug\u001b[0m\u001b[0;34m(\u001b[0m\u001b[0;34m\"Retry: %s\"\u001b[0m\u001b[0;34m,\u001b[0m \u001b[0murl\u001b[0m\u001b[0;34m)\u001b[0m\u001b[0;34m\u001b[0m\u001b[0;34m\u001b[0m\u001b[0m\n\u001b[1;32m    876\u001b[0m             return self.urlopen(\n",
            "\u001b[0;32m/usr/local/lib/python3.7/dist-packages/urllib3/util/retry.py\u001b[0m in \u001b[0;36msleep\u001b[0;34m(self, response)\u001b[0m\n\u001b[1;32m    426\u001b[0m \u001b[0;34m\u001b[0m\u001b[0m\n\u001b[1;32m    427\u001b[0m         \u001b[0;32mif\u001b[0m \u001b[0mself\u001b[0m\u001b[0;34m.\u001b[0m\u001b[0mrespect_retry_after_header\u001b[0m \u001b[0;32mand\u001b[0m \u001b[0mresponse\u001b[0m\u001b[0;34m:\u001b[0m\u001b[0;34m\u001b[0m\u001b[0;34m\u001b[0m\u001b[0m\n\u001b[0;32m--> 428\u001b[0;31m             \u001b[0mslept\u001b[0m \u001b[0;34m=\u001b[0m \u001b[0mself\u001b[0m\u001b[0;34m.\u001b[0m\u001b[0msleep_for_retry\u001b[0m\u001b[0;34m(\u001b[0m\u001b[0mresponse\u001b[0m\u001b[0;34m)\u001b[0m\u001b[0;34m\u001b[0m\u001b[0;34m\u001b[0m\u001b[0m\n\u001b[0m\u001b[1;32m    429\u001b[0m             \u001b[0;32mif\u001b[0m \u001b[0mslept\u001b[0m\u001b[0;34m:\u001b[0m\u001b[0;34m\u001b[0m\u001b[0;34m\u001b[0m\u001b[0m\n\u001b[1;32m    430\u001b[0m                 \u001b[0;32mreturn\u001b[0m\u001b[0;34m\u001b[0m\u001b[0;34m\u001b[0m\u001b[0m\n",
            "\u001b[0;32m/usr/local/lib/python3.7/dist-packages/urllib3/util/retry.py\u001b[0m in \u001b[0;36msleep_for_retry\u001b[0;34m(self, response)\u001b[0m\n\u001b[1;32m    405\u001b[0m         \u001b[0mretry_after\u001b[0m \u001b[0;34m=\u001b[0m \u001b[0mself\u001b[0m\u001b[0;34m.\u001b[0m\u001b[0mget_retry_after\u001b[0m\u001b[0;34m(\u001b[0m\u001b[0mresponse\u001b[0m\u001b[0;34m)\u001b[0m\u001b[0;34m\u001b[0m\u001b[0;34m\u001b[0m\u001b[0m\n\u001b[1;32m    406\u001b[0m         \u001b[0;32mif\u001b[0m \u001b[0mretry_after\u001b[0m\u001b[0;34m:\u001b[0m\u001b[0;34m\u001b[0m\u001b[0;34m\u001b[0m\u001b[0m\n\u001b[0;32m--> 407\u001b[0;31m             \u001b[0mtime\u001b[0m\u001b[0;34m.\u001b[0m\u001b[0msleep\u001b[0m\u001b[0;34m(\u001b[0m\u001b[0mretry_after\u001b[0m\u001b[0;34m)\u001b[0m\u001b[0;34m\u001b[0m\u001b[0;34m\u001b[0m\u001b[0m\n\u001b[0m\u001b[1;32m    408\u001b[0m             \u001b[0;32mreturn\u001b[0m \u001b[0;32mTrue\u001b[0m\u001b[0;34m\u001b[0m\u001b[0;34m\u001b[0m\u001b[0m\n\u001b[1;32m    409\u001b[0m \u001b[0;34m\u001b[0m\u001b[0m\n",
            "\u001b[0;31mKeyboardInterrupt\u001b[0m: "
          ]
        }
      ]
    },
    {
      "cell_type": "markdown",
      "source": [
        "After creating the data chunks with the features we need, we need to compile them back together. Use [os.walk()](https://docs.python.org/3/library/os.html#os.walk) to get all the files, then concatenate them. As shown in the DataFrame, new columns were appended that contain the URI and audio features."
      ],
      "metadata": {
        "id": "fKcP-EGciNdv"
      }
    },
    {
      "cell_type": "code",
      "source": [
        "# Combine data back into one DataFrame\n",
        "def combine_data(loc):\n",
        "    df= pd.DataFrame([])\n",
        "    for root, dirs, files in os.walk(loc, topdown=False):\n",
        "        for name in files:\n",
        "            df = pd.concat([df, pd.read_csv(root+\"/\"+name)])\n",
        "\n",
        "    # Refine data\n",
        "    df = df.reset_index()\n",
        "    df = df.drop(['Unnamed: 0','index'],axis=1)\n",
        "    df = df.dropna(subset=['danceability'])\n",
        "    \n",
        "    return df\n",
        "\n",
        "# Create our two datasets\n",
        "data_peak1 = combine_data('./data_peak1')\n",
        "data_2017 = combine_data('./data_2017')"
      ],
      "metadata": {
        "colab": {
          "base_uri": "https://localhost:8080/",
          "height": 381
        },
        "id": "xHTXVF4UiPjU",
        "outputId": "f3285ec5-50a1-4683-ef95-3ac06199c1eb"
      },
      "execution_count": null,
      "outputs": [
        {
          "output_type": "error",
          "ename": "KeyError",
          "evalue": "ignored",
          "traceback": [
            "\u001b[0;31m---------------------------------------------------------------------------\u001b[0m",
            "\u001b[0;31mKeyError\u001b[0m                                  Traceback (most recent call last)",
            "\u001b[0;32m<ipython-input-15-6a363991c8d7>\u001b[0m in \u001b[0;36m<module>\u001b[0;34m()\u001b[0m\n\u001b[1;32m      8\u001b[0m \u001b[0mdata_2017\u001b[0m \u001b[0;34m=\u001b[0m \u001b[0mdata_2017\u001b[0m\u001b[0;34m.\u001b[0m\u001b[0mreset_index\u001b[0m\u001b[0;34m(\u001b[0m\u001b[0;34m)\u001b[0m\u001b[0;34m\u001b[0m\u001b[0;34m\u001b[0m\u001b[0m\n\u001b[1;32m      9\u001b[0m \u001b[0;31m#data_2017 = data_2017.drop(['Unnamed: 0','index'],axis=1)\u001b[0m\u001b[0;34m\u001b[0m\u001b[0;34m\u001b[0m\u001b[0;34m\u001b[0m\u001b[0m\n\u001b[0;32m---> 10\u001b[0;31m \u001b[0mdata_2017\u001b[0m \u001b[0;34m=\u001b[0m \u001b[0mdata_2017\u001b[0m\u001b[0;34m.\u001b[0m\u001b[0mdropna\u001b[0m\u001b[0;34m(\u001b[0m\u001b[0msubset\u001b[0m\u001b[0;34m=\u001b[0m\u001b[0;34m[\u001b[0m\u001b[0;34m'danceability'\u001b[0m\u001b[0;34m]\u001b[0m\u001b[0;34m)\u001b[0m\u001b[0;34m\u001b[0m\u001b[0;34m\u001b[0m\u001b[0m\n\u001b[0m\u001b[1;32m     11\u001b[0m \u001b[0mdata_2017\u001b[0m\u001b[0;34m.\u001b[0m\u001b[0mhead\u001b[0m\u001b[0;34m(\u001b[0m\u001b[0;34m)\u001b[0m\u001b[0;34m\u001b[0m\u001b[0;34m\u001b[0m\u001b[0m\n",
            "\u001b[0;32m/usr/local/lib/python3.7/dist-packages/pandas/util/_decorators.py\u001b[0m in \u001b[0;36mwrapper\u001b[0;34m(*args, **kwargs)\u001b[0m\n\u001b[1;32m    309\u001b[0m                     \u001b[0mstacklevel\u001b[0m\u001b[0;34m=\u001b[0m\u001b[0mstacklevel\u001b[0m\u001b[0;34m,\u001b[0m\u001b[0;34m\u001b[0m\u001b[0;34m\u001b[0m\u001b[0m\n\u001b[1;32m    310\u001b[0m                 )\n\u001b[0;32m--> 311\u001b[0;31m             \u001b[0;32mreturn\u001b[0m \u001b[0mfunc\u001b[0m\u001b[0;34m(\u001b[0m\u001b[0;34m*\u001b[0m\u001b[0margs\u001b[0m\u001b[0;34m,\u001b[0m \u001b[0;34m**\u001b[0m\u001b[0mkwargs\u001b[0m\u001b[0;34m)\u001b[0m\u001b[0;34m\u001b[0m\u001b[0;34m\u001b[0m\u001b[0m\n\u001b[0m\u001b[1;32m    312\u001b[0m \u001b[0;34m\u001b[0m\u001b[0m\n\u001b[1;32m    313\u001b[0m         \u001b[0;32mreturn\u001b[0m \u001b[0mwrapper\u001b[0m\u001b[0;34m\u001b[0m\u001b[0;34m\u001b[0m\u001b[0m\n",
            "\u001b[0;32m/usr/local/lib/python3.7/dist-packages/pandas/core/frame.py\u001b[0m in \u001b[0;36mdropna\u001b[0;34m(self, axis, how, thresh, subset, inplace)\u001b[0m\n\u001b[1;32m   5951\u001b[0m             \u001b[0mcheck\u001b[0m \u001b[0;34m=\u001b[0m \u001b[0mindices\u001b[0m \u001b[0;34m==\u001b[0m \u001b[0;34m-\u001b[0m\u001b[0;36m1\u001b[0m\u001b[0;34m\u001b[0m\u001b[0;34m\u001b[0m\u001b[0m\n\u001b[1;32m   5952\u001b[0m             \u001b[0;32mif\u001b[0m \u001b[0mcheck\u001b[0m\u001b[0;34m.\u001b[0m\u001b[0many\u001b[0m\u001b[0;34m(\u001b[0m\u001b[0;34m)\u001b[0m\u001b[0;34m:\u001b[0m\u001b[0;34m\u001b[0m\u001b[0;34m\u001b[0m\u001b[0m\n\u001b[0;32m-> 5953\u001b[0;31m                 \u001b[0;32mraise\u001b[0m \u001b[0mKeyError\u001b[0m\u001b[0;34m(\u001b[0m\u001b[0mlist\u001b[0m\u001b[0;34m(\u001b[0m\u001b[0mnp\u001b[0m\u001b[0;34m.\u001b[0m\u001b[0mcompress\u001b[0m\u001b[0;34m(\u001b[0m\u001b[0mcheck\u001b[0m\u001b[0;34m,\u001b[0m \u001b[0msubset\u001b[0m\u001b[0;34m)\u001b[0m\u001b[0;34m)\u001b[0m\u001b[0;34m)\u001b[0m\u001b[0;34m\u001b[0m\u001b[0;34m\u001b[0m\u001b[0m\n\u001b[0m\u001b[1;32m   5954\u001b[0m             \u001b[0magg_obj\u001b[0m \u001b[0;34m=\u001b[0m \u001b[0mself\u001b[0m\u001b[0;34m.\u001b[0m\u001b[0mtake\u001b[0m\u001b[0;34m(\u001b[0m\u001b[0mindices\u001b[0m\u001b[0;34m,\u001b[0m \u001b[0maxis\u001b[0m\u001b[0;34m=\u001b[0m\u001b[0magg_axis\u001b[0m\u001b[0;34m)\u001b[0m\u001b[0;34m\u001b[0m\u001b[0;34m\u001b[0m\u001b[0m\n\u001b[1;32m   5955\u001b[0m \u001b[0;34m\u001b[0m\u001b[0m\n",
            "\u001b[0;31mKeyError\u001b[0m: ['danceability']"
          ]
        }
      ]
    },
    {
      "cell_type": "code",
      "source": [
        "#Run this block to write data to a file in working directory.\n",
        "data_peak1.to_csv('data_peak1_full.csv')\n",
        "data_2017.to_csv('data_2017_full.csv')"
      ],
      "metadata": {
        "id": "GWVekRx7bcc_"
      },
      "execution_count": null,
      "outputs": []
    },
    {
      "cell_type": "code",
      "source": [
        "# For Google Colab: read in data from the .csv file\n",
        "data_peak1 = pd.read_csv('data_peak1_full.csv')\n",
        "data_2017 = pd.read_csv('data_2017_full.csv')"
      ],
      "metadata": {
        "id": "IC6y52T0evRQ",
        "colab": {
          "base_uri": "https://localhost:8080/",
          "height": 206
        },
        "outputId": "8d86f6a1-6d1b-456e-cfd6-d2bd82225f28"
      },
      "execution_count": null,
      "outputs": [
        {
          "output_type": "error",
          "ename": "NameError",
          "evalue": "ignored",
          "traceback": [
            "\u001b[0;31m---------------------------------------------------------------------------\u001b[0m",
            "\u001b[0;31mNameError\u001b[0m                                 Traceback (most recent call last)",
            "\u001b[0;32m<ipython-input-3-2f64f9c265cf>\u001b[0m in \u001b[0;36m<module>\u001b[0;34m()\u001b[0m\n\u001b[1;32m      1\u001b[0m \u001b[0;31m# For Google Colab: read in data from the .csv file\u001b[0m\u001b[0;34m\u001b[0m\u001b[0;34m\u001b[0m\u001b[0;34m\u001b[0m\u001b[0m\n\u001b[0;32m----> 2\u001b[0;31m \u001b[0mdata_peak1\u001b[0m \u001b[0;34m=\u001b[0m \u001b[0mpd\u001b[0m\u001b[0;34m.\u001b[0m\u001b[0mread_csv\u001b[0m\u001b[0;34m(\u001b[0m\u001b[0;34m'data_peak1_full.csv'\u001b[0m\u001b[0;34m)\u001b[0m\u001b[0;34m\u001b[0m\u001b[0;34m\u001b[0m\u001b[0m\n\u001b[0m\u001b[1;32m      3\u001b[0m \u001b[0mdata_2017\u001b[0m \u001b[0;34m=\u001b[0m \u001b[0mpd\u001b[0m\u001b[0;34m.\u001b[0m\u001b[0mread_csv\u001b[0m\u001b[0;34m(\u001b[0m\u001b[0;34m'data_2017_full.csv'\u001b[0m\u001b[0;34m)\u001b[0m\u001b[0;34m\u001b[0m\u001b[0;34m\u001b[0m\u001b[0m\n",
            "\u001b[0;31mNameError\u001b[0m: name 'pd' is not defined"
          ]
        }
      ]
    },
    {
      "cell_type": "code",
      "source": [
        "\n",
        "data_2017 = pd.read_csv('data_2017_full.csv')\n",
        "data_2017.columns"
      ],
      "metadata": {
        "colab": {
          "base_uri": "https://localhost:8080/"
        },
        "id": "WgkYMUjzrnOp",
        "outputId": "37117ec7-d908-4552-e34d-6348c8340fc2"
      },
      "execution_count": null,
      "outputs": [
        {
          "output_type": "execute_result",
          "data": {
            "text/plain": [
              "Index(['Unnamed: 0', 'date', 'rank', 'song', 'artist', 'last-week',\n",
              "       'peak-rank', 'weeks-on-board', 'uri', 'danceability', 'energy',\n",
              "       'loudness', 'speechiness', 'acousticness', 'instrumentalness',\n",
              "       'liveness', 'valence', 'tempo', 'year'],\n",
              "      dtype='object')"
            ]
          },
          "metadata": {},
          "execution_count": 16
        }
      ]
    },
    {
      "cell_type": "markdown",
      "source": [
        "## Part 2: Analyzing Audio Features\n",
        "From the audio features, we can start by analyzing the correlation between the features themselves. A correlation matrix shows the relationship between different variables in data. NumPy has a method [corrcoef()](https://numpy.org/doc/stable/reference/generated/numpy.corrcoef.html) to calculate this. In this example, red means a strong positive correlation, white means no correlation, and blue means a strong negative correlation."
      ],
      "metadata": {
        "id": "sZz1A584oAJ5"
      }
    },
    {
      "cell_type": "code",
      "source": [
        "import matplotlib.pyplot as plt\n",
        "import numpy as np\n",
        "\n",
        "features = data_2017[['danceability','energy','loudness','speechiness','acousticness','instrumentalness','liveness', 'valence', 'tempo']]\n",
        "features_np = features.to_numpy(dtype=np.float64).T\n",
        "features_np.shape\n",
        "\n",
        "correlation_matrix = np.corrcoef(features_np)\n",
        "\n",
        "names = ['danceability','energy','loudness','speechiness','acousticness','instrumentalness','liveness', 'valence', 'tempo']\n",
        "positions = [0,1,2,3,4,5,6,7,8]\n",
        "\n",
        "plt.xticks(positions, names, rotation=90)\n",
        "plt.yticks(positions,names,rotation=0)\n",
        "\n",
        "# Show the correlation matrix\n",
        "\n",
        "plt.imshow(correlation_matrix,cmap=plt.get_cmap('RdBu_r'))"
      ],
      "metadata": {
        "colab": {
          "base_uri": "https://localhost:8080/",
          "height": 359
        },
        "id": "LYPi-lmXn-2m",
        "outputId": "17806eda-2d9a-4d3d-86de-1ab6a17fbade"
      },
      "execution_count": null,
      "outputs": [
        {
          "output_type": "execute_result",
          "data": {
            "text/plain": [
              "<matplotlib.image.AxesImage at 0x7fa3f9a97f90>"
            ]
          },
          "metadata": {},
          "execution_count": 19
        },
        {
          "output_type": "display_data",
          "data": {
            "text/plain": [
              "<Figure size 432x288 with 1 Axes>"
            ],
            "image/png": "[encoded data removed]"
          },
          "metadata": {
            "needs_background": "light"
          }
        }
      ]
    },
    {
      "cell_type": "markdown",
      "source": [
        "From this matrix, we can see meaningful relationships between audio features.\n",
        "1. Any feature has the maximum positive correlation with itself. This is obvious.\n",
        "1. Loudness and energy correlate strongly. This makes sense, as loud music is generally energetic.\n",
        "1. Energy and acousticness are negatively correlated. This also makes sense, as acoustic music is generally more calm.\n",
        "1. Certain features are harder to correlate; for example, valence does not correlate strongly with any other audio feature."
      ],
      "metadata": {
        "id": "DMA4xSS2sbD3"
      }
    },
    {
      "cell_type": "markdown",
      "source": [
        "TODO: move these import statements to their relevant location"
      ],
      "metadata": {
        "id": "etoCnHXZicFP"
      }
    },
    {
      "cell_type": "code",
      "source": [
        "from sklearn.linear_model import LinearRegression\n",
        "from sklearn import datasets, linear_model\n",
        "from sklearn.metrics import mean_squared_error, r2_score\n",
        "from sklearn.model_selection import train_test_split\n",
        "from sklearn.metrics import mean_squared_error\n",
        "from sklearn.tree import DecisionTreeRegressor\n",
        "from sklearn import tree\n",
        "from sklearn import metrics\n",
        "from sklearn import svm\n",
        "from sklearn.neighbors import KNeighborsRegressor\n"
      ],
      "metadata": {
        "id": "1S6qDioVif3t"
      },
      "execution_count": null,
      "outputs": []
    },
    {
      "cell_type": "markdown",
      "source": [
        "We need to extract the data from the zip file in order to use it. To do this, we create an empty pandas dataframe and iterate throught the files in the zip. We use the zipfile module to open each file, and we use pandas to concatenate it to the dataframe. "
      ],
      "metadata": {
        "id": "8lJvTc2NaDOb"
      }
    },
    {
      "cell_type": "code",
      "source": [
        "import zipfile\n",
        "zipped = zipfile.ZipFile('/content/data_peak1-20220512T220913Z-001.zip')\n",
        "dataframe = pd.DataFrame([])\n",
        "for file in zipped.namelist():\n",
        "    f = zipped.open(file)\n",
        "    dataframe = pd.concat([dataframe, pd.read_csv(f)])"
      ],
      "metadata": {
        "id": "DPpp3H5NU87x"
      },
      "execution_count": null,
      "outputs": []
    },
    {
      "cell_type": "markdown",
      "source": [
        "Because of how files are stored within a zipped folder, the files and thus the data are no longer in chonological order, but we won't worry about this now. We also need to use the reset_index method on the dataframe to fix our indexing after concatenation. "
      ],
      "metadata": {
        "id": "pkWxQ83rC3bR"
      }
    },
    {
      "cell_type": "code",
      "source": [
        "dataframe.reset_index();"
      ],
      "metadata": {
        "id": "IrHHBU_fC2l4"
      },
      "execution_count": null,
      "outputs": []
    },
    {
      "cell_type": "markdown",
      "metadata": {
        "id": "BsegLCuv2Baw"
      },
      "source": [
        "##ADAM"
      ]
    },
    {
      "cell_type": "code",
      "execution_count": null,
      "metadata": {
        "colab": {
          "base_uri": "https://localhost:8080/"
        },
        "id": "BgYcogxo6Ylm",
        "outputId": "dee153ca-196f-4cd7-81de-e531de4d57c5"
      },
      "outputs": [
        {
          "output_type": "stream",
          "name": "stdout",
          "text": [
            "{'artists': {'href': 'https://api.spotify.com/v1/search?query=artist%3Aadele&type=artist&offset=0&limit=10', 'items': [{'external_urls': {'spotify': 'https://open.spotify.com/artist/4dpARuHxo51G3z768sgnrY'}, 'followers': {'href': None, 'total': 37710878}, 'genres': ['british soul', 'pop', 'pop soul', 'uk pop'], 'href': 'https://api.spotify.com/v1/artists/4dpARuHxo51G3z768sgnrY', 'id': '4dpARuHxo51G3z768sgnrY', 'images': [{'height': 640, 'url': 'https://i.scdn.co/image/ab6761610000e5eb68f6e5892075d7f22615bd17', 'width': 640}, {'height': 320, 'url': 'https://i.scdn.co/image/ab6761610000517468f6e5892075d7f22615bd17', 'width': 320}, {'height': 160, 'url': 'https://i.scdn.co/image/ab6761610000f17868f6e5892075d7f22615bd17', 'width': 160}], 'name': 'Adele', 'popularity': 87, 'type': 'artist', 'uri': 'spotify:artist:4dpARuHxo51G3z768sgnrY'}, {'external_urls': {'spotify': 'https://open.spotify.com/artist/19RHMn8FFkEFmhPwyDW2ZC'}, 'followers': {'href': None, 'total': 44779}, 'genres': ['cabaret'], 'href': 'https://api.spotify.com/v1/artists/19RHMn8FFkEFmhPwyDW2ZC', 'id': '19RHMn8FFkEFmhPwyDW2ZC', 'images': [{'height': 640, 'url': 'https://i.scdn.co/image/ab6761610000e5eb943d9aa615f4260e96e8e635', 'width': 640}, {'height': 320, 'url': 'https://i.scdn.co/image/ab67616100005174943d9aa615f4260e96e8e635', 'width': 320}, {'height': 160, 'url': 'https://i.scdn.co/image/ab6761610000f178943d9aa615f4260e96e8e635', 'width': 160}], 'name': 'Robyn Adele Anderson', 'popularity': 39, 'type': 'artist', 'uri': 'spotify:artist:19RHMn8FFkEFmhPwyDW2ZC'}, {'external_urls': {'spotify': 'https://open.spotify.com/artist/4AEv9RpfPAr67W04LqWLDb'}, 'followers': {'href': None, 'total': 419}, 'genres': [], 'href': 'https://api.spotify.com/v1/artists/4AEv9RpfPAr67W04LqWLDb', 'id': '4AEv9RpfPAr67W04LqWLDb', 'images': [{'height': 640, 'url': 'https://i.scdn.co/image/ab67616d0000b2732bc16fc1dbc8250a88512a72', 'width': 640}, {'height': 300, 'url': 'https://i.scdn.co/image/ab67616d00001e022bc16fc1dbc8250a88512a72', 'width': 300}, {'height': 64, 'url': 'https://i.scdn.co/image/ab67616d000048512bc16fc1dbc8250a88512a72', 'width': 64}], 'name': 'Adele Roberts', 'popularity': 35, 'type': 'artist', 'uri': 'spotify:artist:4AEv9RpfPAr67W04LqWLDb'}, {'external_urls': {'spotify': 'https://open.spotify.com/artist/5yUp79jSBSGdkbufl2hmcY'}, 'followers': {'href': None, 'total': 963}, 'genres': ['violin'], 'href': 'https://api.spotify.com/v1/artists/5yUp79jSBSGdkbufl2hmcY', 'id': '5yUp79jSBSGdkbufl2hmcY', 'images': [{'height': 1000, 'url': 'https://i.scdn.co/image/f872ff81d488a571190f9e3ab162db15361f7060', 'width': 1000}, {'height': 640, 'url': 'https://i.scdn.co/image/cdc5a89e78fff546f1939e7dd68904bd061b36f9', 'width': 640}, {'height': 200, 'url': 'https://i.scdn.co/image/1edaaef2eaefbf2bfb6a530e5464e40e5f398819', 'width': 200}, {'height': 64, 'url': 'https://i.scdn.co/image/4cab46ac52af13c19ecf94b9b36197fc4c09e664', 'width': 64}], 'name': 'Adele Anthony', 'popularity': 24, 'type': 'artist', 'uri': 'spotify:artist:5yUp79jSBSGdkbufl2hmcY'}, {'external_urls': {'spotify': 'https://open.spotify.com/artist/1ZxfPXwVNFPWZHWs5EyGNB'}, 'followers': {'href': None, 'total': 62}, 'genres': [], 'href': 'https://api.spotify.com/v1/artists/1ZxfPXwVNFPWZHWs5EyGNB', 'id': '1ZxfPXwVNFPWZHWs5EyGNB', 'images': [{'height': 640, 'url': 'https://i.scdn.co/image/ab67616d0000b27314067d5c18573cf54e3f62cd', 'width': 640}, {'height': 300, 'url': 'https://i.scdn.co/image/ab67616d00001e0214067d5c18573cf54e3f62cd', 'width': 300}, {'height': 64, 'url': 'https://i.scdn.co/image/ab67616d0000485114067d5c18573cf54e3f62cd', 'width': 64}], 'name': 'Adele K', 'popularity': 24, 'type': 'artist', 'uri': 'spotify:artist:1ZxfPXwVNFPWZHWs5EyGNB'}, {'external_urls': {'spotify': 'https://open.spotify.com/artist/5zEh5XsQAkg0iUY3vPNU0l'}, 'followers': {'href': None, 'total': 553}, 'genres': [], 'href': 'https://api.spotify.com/v1/artists/5zEh5XsQAkg0iUY3vPNU0l', 'id': '5zEh5XsQAkg0iUY3vPNU0l', 'images': [{'height': 640, 'url': 'https://i.scdn.co/image/ab6761610000e5eb4b47c82cacf4de7290587576', 'width': 640}, {'height': 320, 'url': 'https://i.scdn.co/image/ab676161000051744b47c82cacf4de7290587576', 'width': 320}, {'height': 160, 'url': 'https://i.scdn.co/image/ab6761610000f1784b47c82cacf4de7290587576', 'width': 160}], 'name': 'Ester Adele', 'popularity': 17, 'type': 'artist', 'uri': 'spotify:artist:5zEh5XsQAkg0iUY3vPNU0l'}, {'external_urls': {'spotify': 'https://open.spotify.com/artist/4vekqx2L7uRxEpo33MMKba'}, 'followers': {'href': None, 'total': 13}, 'genres': [], 'href': 'https://api.spotify.com/v1/artists/4vekqx2L7uRxEpo33MMKba', 'id': '4vekqx2L7uRxEpo33MMKba', 'images': [{'height': 640, 'url': 'https://i.scdn.co/image/ab67616d0000b27318bcd0af8bc9f94f507a0744', 'width': 640}, {'height': 300, 'url': 'https://i.scdn.co/image/ab67616d00001e0218bcd0af8bc9f94f507a0744', 'width': 300}, {'height': 64, 'url': 'https://i.scdn.co/image/ab67616d0000485118bcd0af8bc9f94f507a0744', 'width': 64}], 'name': 'Adele Cox', 'popularity': 15, 'type': 'artist', 'uri': 'spotify:artist:4vekqx2L7uRxEpo33MMKba'}, {'external_urls': {'spotify': 'https://open.spotify.com/artist/4z6kZb2cYPUxzVyzpNCKDj'}, 'followers': {'href': None, 'total': 417}, 'genres': [], 'href': 'https://api.spotify.com/v1/artists/4z6kZb2cYPUxzVyzpNCKDj', 'id': '4z6kZb2cYPUxzVyzpNCKDj', 'images': [], 'name': 'Adele Haenel', 'popularity': 29, 'type': 'artist', 'uri': 'spotify:artist:4z6kZb2cYPUxzVyzpNCKDj'}, {'external_urls': {'spotify': 'https://open.spotify.com/artist/2qS6cYzM5ajhprcxQa1Ilc'}, 'followers': {'href': None, 'total': 38315}, 'genres': ['norwegian pop', 'scandipop'], 'href': 'https://api.spotify.com/v1/artists/2qS6cYzM5ajhprcxQa1Ilc', 'id': '2qS6cYzM5ajhprcxQa1Ilc', 'images': [{'height': 640, 'url': 'https://i.scdn.co/image/ab6761610000e5ebd85b68cf89a3d317f45a7375', 'width': 640}, {'height': 320, 'url': 'https://i.scdn.co/image/ab67616100005174d85b68cf89a3d317f45a7375', 'width': 320}, {'height': 160, 'url': 'https://i.scdn.co/image/ab6761610000f178d85b68cf89a3d317f45a7375', 'width': 160}], 'name': 'Adelén', 'popularity': 40, 'type': 'artist', 'uri': 'spotify:artist:2qS6cYzM5ajhprcxQa1Ilc'}, {'external_urls': {'spotify': 'https://open.spotify.com/artist/10UHmKyfLXudqVHU9PnHEZ'}, 'followers': {'href': None, 'total': 484}, 'genres': [], 'href': 'https://api.spotify.com/v1/artists/10UHmKyfLXudqVHU9PnHEZ', 'id': '10UHmKyfLXudqVHU9PnHEZ', 'images': [{'height': 640, 'url': 'https://i.scdn.co/image/ab67616d0000b2736e5aa49600ad35ca9955d783', 'width': 640}, {'height': 300, 'url': 'https://i.scdn.co/image/ab67616d00001e026e5aa49600ad35ca9955d783', 'width': 300}, {'height': 64, 'url': 'https://i.scdn.co/image/ab67616d000048516e5aa49600ad35ca9955d783', 'width': 64}], 'name': 'Laila Adele', 'popularity': 23, 'type': 'artist', 'uri': 'spotify:artist:10UHmKyfLXudqVHU9PnHEZ'}], 'limit': 10, 'next': 'https://api.spotify.com/v1/search?query=artist%3Aadele&type=artist&offset=10&limit=10', 'offset': 0, 'previous': None, 'total': 370}}\n"
          ]
        }
      ],
      "source": [
        "print(sp.search(q='artist:' + \"adele\", type='artist'))"
      ]
    },
    {
      "cell_type": "markdown",
      "metadata": {
        "id": "wTXirFjO2Hzl"
      },
      "source": [
        "##Audio Features and Time (BENJI)"
      ]
    },
    {
      "cell_type": "markdown",
      "source": [
        "In this section we'll explore the relationship between a song's audio features and the year in which it was released."
      ],
      "metadata": {
        "id": "bUzbIJQCHNxQ"
      }
    },
    {
      "cell_type": "markdown",
      "source": [
        "Let's start by making a copy of the main dataframe so we can manipulate it as we please. "
      ],
      "metadata": {
        "id": "H4gLJzRMIStt"
      }
    },
    {
      "cell_type": "code",
      "source": [
        "data = data_peak1.copy()"
      ],
      "metadata": {
        "id": "6EiqqLL2G3wt",
        "colab": {
          "base_uri": "https://localhost:8080/",
          "height": 171
        },
        "outputId": "36a45d26-dd65-41ae-87be-b97c6d2f22a4"
      },
      "execution_count": null,
      "outputs": [
        {
          "output_type": "error",
          "ename": "NameError",
          "evalue": "ignored",
          "traceback": [
            "\u001b[0;31m---------------------------------------------------------------------------\u001b[0m",
            "\u001b[0;31mNameError\u001b[0m                                 Traceback (most recent call last)",
            "\u001b[0;32m<ipython-input-2-aa4a41c5688a>\u001b[0m in \u001b[0;36m<module>\u001b[0;34m()\u001b[0m\n\u001b[0;32m----> 1\u001b[0;31m \u001b[0mdata\u001b[0m \u001b[0;34m=\u001b[0m \u001b[0mdata_peak1\u001b[0m\u001b[0;34m.\u001b[0m\u001b[0mcopy\u001b[0m\u001b[0;34m(\u001b[0m\u001b[0;34m)\u001b[0m\u001b[0;34m\u001b[0m\u001b[0;34m\u001b[0m\u001b[0m\n\u001b[0m",
            "\u001b[0;31mNameError\u001b[0m: name 'data_peak1' is not defined"
          ]
        }
      ]
    },
    {
      "cell_type": "markdown",
      "source": [
        "Since songs can stay on the charts for multiple weeks, out data has some duplicate entries, which will give the impression that our models are more accurate than they actually are. We use the drop_duplicates method to get rid of all but the first row containing any given song. "
      ],
      "metadata": {
        "id": "FcRWLhYWfRyp"
      }
    },
    {
      "cell_type": "code",
      "source": [
        "data = data.drop_duplicates(subset='song', keep=\"first\")"
      ],
      "metadata": {
        "id": "xTlJG5FzfMqA"
      },
      "execution_count": null,
      "outputs": []
    },
    {
      "cell_type": "markdown",
      "source": [
        "Let's also add a new column to the dataframe which isolates the year from the rest of the date. We do this by converting the date column to a pandas Datetime object, extracting the year, and saving it in a new column called 'year'.\n",
        "\n",
        "Why we do this will become clear later on, but essentially it makes graphing and modeling the data a bit simpler."
      ],
      "metadata": {
        "id": "OPBQH85INFTJ"
      }
    },
    {
      "cell_type": "code",
      "source": [
        "data['year'] = pd.DatetimeIndex(pd.to_datetime(data['date'])).year"
      ],
      "metadata": {
        "id": "-CHcCHtIMj3C"
      },
      "execution_count": null,
      "outputs": []
    },
    {
      "cell_type": "markdown",
      "source": [
        "Some of the rows are missing data for all of the audio features, which will present problems when we try to graph. To prevent errors, we use the dropna method to drop any rows with missing values for the danceability column, which will coincide directly with rows missing data for all audio features. "
      ],
      "metadata": {
        "id": "U_AtG7ayR2pL"
      }
    },
    {
      "cell_type": "code",
      "source": [
        "data = data.dropna(subset=['danceability'])"
      ],
      "metadata": {
        "id": "r-1qq8KNPwjX"
      },
      "execution_count": null,
      "outputs": []
    },
    {
      "cell_type": "markdown",
      "source": [
        "If we take a peek at the first and last entries in our dataframe, we can see that the audio features of \"When I Was Your Man (2013) are vastly different from the audio features of \"The Tide is High\" (1981). "
      ],
      "metadata": {
        "id": "By7tfstlIug2"
      }
    },
    {
      "cell_type": "code",
      "source": [
        "data.head(1)"
      ],
      "metadata": {
        "colab": {
          "base_uri": "https://localhost:8080/",
          "height": 232
        },
        "id": "TBthL0NbI-Zx",
        "outputId": "5a7f31b6-8272-4dcb-eed5-c9325dc3ebe3"
      },
      "execution_count": null,
      "outputs": [
        {
          "output_type": "execute_result",
          "data": {
            "text/plain": [
              "   Unnamed: 0        date  rank                 song      artist  last-week  \\\n",
              "0       43032  2013-08-10    33  When I Was Your Man  Bruno Mars       31.0   \n",
              "\n",
              "   peak-rank  weeks-on-board  year                                   uri  \\\n",
              "0          1              32  2013  spotify:track:0nJW01T7XtvILxQgC5J7Wh   \n",
              "\n",
              "   danceability  energy  loudness  speechiness  acousticness  \\\n",
              "0         0.612    0.28    -8.648       0.0434         0.932   \n",
              "\n",
              "   instrumentalness  liveness  valence   tempo  \n",
              "0               0.0     0.088    0.387  72.795  "
            ],
            "text/html": [
              "\n",
              "  <div id=\"df-bf8a2037-aeb0-4217-a9be-8775379ff25b\">\n",
              "    <div class=\"colab-df-container\">\n",
              "      <div>\n",
              "<style scoped>\n",
              "    .dataframe tbody tr th:only-of-type {\n",
              "        vertical-align: middle;\n",
              "    }\n",
              "\n",
              "    .dataframe tbody tr th {\n",
              "        vertical-align: top;\n",
              "    }\n",
              "\n",
              "    .dataframe thead th {\n",
              "        text-align: right;\n",
              "    }\n",
              "</style>\n",
              "<table border=\"1\" class=\"dataframe\">\n",
              "  <thead>\n",
              "    <tr style=\"text-align: right;\">\n",
              "      <th></th>\n",
              "      <th>Unnamed: 0</th>\n",
              "      <th>date</th>\n",
              "      <th>rank</th>\n",
              "      <th>song</th>\n",
              "      <th>artist</th>\n",
              "      <th>last-week</th>\n",
              "      <th>peak-rank</th>\n",
              "      <th>weeks-on-board</th>\n",
              "      <th>year</th>\n",
              "      <th>uri</th>\n",
              "      <th>danceability</th>\n",
              "      <th>energy</th>\n",
              "      <th>loudness</th>\n",
              "      <th>speechiness</th>\n",
              "      <th>acousticness</th>\n",
              "      <th>instrumentalness</th>\n",
              "      <th>liveness</th>\n",
              "      <th>valence</th>\n",
              "      <th>tempo</th>\n",
              "    </tr>\n",
              "  </thead>\n",
              "  <tbody>\n",
              "    <tr>\n",
              "      <th>0</th>\n",
              "      <td>43032</td>\n",
              "      <td>2013-08-10</td>\n",
              "      <td>33</td>\n",
              "      <td>When I Was Your Man</td>\n",
              "      <td>Bruno Mars</td>\n",
              "      <td>31.0</td>\n",
              "      <td>1</td>\n",
              "      <td>32</td>\n",
              "      <td>2013</td>\n",
              "      <td>spotify:track:0nJW01T7XtvILxQgC5J7Wh</td>\n",
              "      <td>0.612</td>\n",
              "      <td>0.28</td>\n",
              "      <td>-8.648</td>\n",
              "      <td>0.0434</td>\n",
              "      <td>0.932</td>\n",
              "      <td>0.0</td>\n",
              "      <td>0.088</td>\n",
              "      <td>0.387</td>\n",
              "      <td>72.795</td>\n",
              "    </tr>\n",
              "  </tbody>\n",
              "</table>\n",
              "</div>\n",
              "      <button class=\"colab-df-convert\" onclick=\"convertToInteractive('df-bf8a2037-aeb0-4217-a9be-8775379ff25b')\"\n",
              "              title=\"Convert this dataframe to an interactive table.\"\n",
              "              style=\"display:none;\">\n",
              "        \n",
              "  <svg xmlns=\"http://www.w3.org/2000/svg\" height=\"24px\"viewBox=\"0 0 24 24\"\n",
              "       width=\"24px\">\n",
              "    <path d=\"M0 0h24v24H0V0z\" fill=\"none\"/>\n",
              "    <path d=\"M18.56 5.44l.94 2.06.94-2.06 2.06-.94-2.06-.94-.94-2.06-.94 2.06-2.06.94zm-11 1L8.5 8.5l.94-2.06 2.06-.94-2.06-.94L8.5 2.5l-.94 2.06-2.06.94zm10 10l.94 2.06.94-2.06 2.06-.94-2.06-.94-.94-2.06-.94 2.06-2.06.94z\"/><path d=\"M17.41 7.96l-1.37-1.37c-.4-.4-.92-.59-1.43-.59-.52 0-1.04.2-1.43.59L10.3 9.45l-7.72 7.72c-.78.78-.78 2.05 0 2.83L4 21.41c.39.39.9.59 1.41.59.51 0 1.02-.2 1.41-.59l7.78-7.78 2.81-2.81c.8-.78.8-2.07 0-2.86zM5.41 20L4 18.59l7.72-7.72 1.47 1.35L5.41 20z\"/>\n",
              "  </svg>\n",
              "      </button>\n",
              "      \n",
              "  <style>\n",
              "    .colab-df-container {\n",
              "      display:flex;\n",
              "      flex-wrap:wrap;\n",
              "      gap: 12px;\n",
              "    }\n",
              "\n",
              "    .colab-df-convert {\n",
              "      background-color: #E8F0FE;\n",
              "      border: none;\n",
              "      border-radius: 50%;\n",
              "      cursor: pointer;\n",
              "      display: none;\n",
              "      fill: #1967D2;\n",
              "      height: 32px;\n",
              "      padding: 0 0 0 0;\n",
              "      width: 32px;\n",
              "    }\n",
              "\n",
              "    .colab-df-convert:hover {\n",
              "      background-color: #E2EBFA;\n",
              "      box-shadow: 0px 1px 2px rgba(60, 64, 67, 0.3), 0px 1px 3px 1px rgba(60, 64, 67, 0.15);\n",
              "      fill: #174EA6;\n",
              "    }\n",
              "\n",
              "    [theme=dark] .colab-df-convert {\n",
              "      background-color: #3B4455;\n",
              "      fill: #D2E3FC;\n",
              "    }\n",
              "\n",
              "    [theme=dark] .colab-df-convert:hover {\n",
              "      background-color: #434B5C;\n",
              "      box-shadow: 0px 1px 3px 1px rgba(0, 0, 0, 0.15);\n",
              "      filter: drop-shadow(0px 1px 2px rgba(0, 0, 0, 0.3));\n",
              "      fill: #FFFFFF;\n",
              "    }\n",
              "  </style>\n",
              "\n",
              "      <script>\n",
              "        const buttonEl =\n",
              "          document.querySelector('#df-bf8a2037-aeb0-4217-a9be-8775379ff25b button.colab-df-convert');\n",
              "        buttonEl.style.display =\n",
              "          google.colab.kernel.accessAllowed ? 'block' : 'none';\n",
              "\n",
              "        async function convertToInteractive(key) {\n",
              "          const element = document.querySelector('#df-bf8a2037-aeb0-4217-a9be-8775379ff25b');\n",
              "          const dataTable =\n",
              "            await google.colab.kernel.invokeFunction('convertToInteractive',\n",
              "                                                     [key], {});\n",
              "          if (!dataTable) return;\n",
              "\n",
              "          const docLinkHtml = 'Like what you see? Visit the ' +\n",
              "            '<a target=\"_blank\" href=https://colab.research.google.com/notebooks/data_table.ipynb>data table notebook</a>'\n",
              "            + ' to learn more about interactive tables.';\n",
              "          element.innerHTML = '';\n",
              "          dataTable['output_type'] = 'display_data';\n",
              "          await google.colab.output.renderOutput(dataTable, element);\n",
              "          const docLink = document.createElement('div');\n",
              "          docLink.innerHTML = docLinkHtml;\n",
              "          element.appendChild(docLink);\n",
              "        }\n",
              "      </script>\n",
              "    </div>\n",
              "  </div>\n",
              "  "
            ]
          },
          "metadata": {},
          "execution_count": 12
        }
      ]
    },
    {
      "cell_type": "code",
      "source": [
        "data.tail(1)"
      ],
      "metadata": {
        "colab": {
          "base_uri": "https://localhost:8080/",
          "height": 232
        },
        "id": "JiJFjitSJKWm",
        "outputId": "090000db-6eb8-457a-8bf8-9c60a33eec36"
      },
      "execution_count": null,
      "outputs": [
        {
          "output_type": "execute_result",
          "data": {
            "text/plain": [
              "     Unnamed: 0        date  rank              song   artist  last-week  \\\n",
              "999      212026  1981-03-21    27  The Tide Is High  Blondie       15.0   \n",
              "\n",
              "     peak-rank  weeks-on-board  year                                   uri  \\\n",
              "999          1              19  1981  spotify:track:3lGBRoe3c6oV398Xwgf7c7   \n",
              "\n",
              "     danceability  energy  loudness  speechiness  acousticness  \\\n",
              "999         0.777     0.8    -5.803       0.0276         0.181   \n",
              "\n",
              "     instrumentalness  liveness  valence   tempo  \n",
              "999           0.00204     0.201    0.969  96.674  "
            ],
            "text/html": [
              "\n",
              "  <div id=\"df-67cc3806-36fb-4833-928e-c9b51dcc6233\">\n",
              "    <div class=\"colab-df-container\">\n",
              "      <div>\n",
              "<style scoped>\n",
              "    .dataframe tbody tr th:only-of-type {\n",
              "        vertical-align: middle;\n",
              "    }\n",
              "\n",
              "    .dataframe tbody tr th {\n",
              "        vertical-align: top;\n",
              "    }\n",
              "\n",
              "    .dataframe thead th {\n",
              "        text-align: right;\n",
              "    }\n",
              "</style>\n",
              "<table border=\"1\" class=\"dataframe\">\n",
              "  <thead>\n",
              "    <tr style=\"text-align: right;\">\n",
              "      <th></th>\n",
              "      <th>Unnamed: 0</th>\n",
              "      <th>date</th>\n",
              "      <th>rank</th>\n",
              "      <th>song</th>\n",
              "      <th>artist</th>\n",
              "      <th>last-week</th>\n",
              "      <th>peak-rank</th>\n",
              "      <th>weeks-on-board</th>\n",
              "      <th>year</th>\n",
              "      <th>uri</th>\n",
              "      <th>danceability</th>\n",
              "      <th>energy</th>\n",
              "      <th>loudness</th>\n",
              "      <th>speechiness</th>\n",
              "      <th>acousticness</th>\n",
              "      <th>instrumentalness</th>\n",
              "      <th>liveness</th>\n",
              "      <th>valence</th>\n",
              "      <th>tempo</th>\n",
              "    </tr>\n",
              "  </thead>\n",
              "  <tbody>\n",
              "    <tr>\n",
              "      <th>999</th>\n",
              "      <td>212026</td>\n",
              "      <td>1981-03-21</td>\n",
              "      <td>27</td>\n",
              "      <td>The Tide Is High</td>\n",
              "      <td>Blondie</td>\n",
              "      <td>15.0</td>\n",
              "      <td>1</td>\n",
              "      <td>19</td>\n",
              "      <td>1981</td>\n",
              "      <td>spotify:track:3lGBRoe3c6oV398Xwgf7c7</td>\n",
              "      <td>0.777</td>\n",
              "      <td>0.8</td>\n",
              "      <td>-5.803</td>\n",
              "      <td>0.0276</td>\n",
              "      <td>0.181</td>\n",
              "      <td>0.00204</td>\n",
              "      <td>0.201</td>\n",
              "      <td>0.969</td>\n",
              "      <td>96.674</td>\n",
              "    </tr>\n",
              "  </tbody>\n",
              "</table>\n",
              "</div>\n",
              "      <button class=\"colab-df-convert\" onclick=\"convertToInteractive('df-67cc3806-36fb-4833-928e-c9b51dcc6233')\"\n",
              "              title=\"Convert this dataframe to an interactive table.\"\n",
              "              style=\"display:none;\">\n",
              "        \n",
              "  <svg xmlns=\"http://www.w3.org/2000/svg\" height=\"24px\"viewBox=\"0 0 24 24\"\n",
              "       width=\"24px\">\n",
              "    <path d=\"M0 0h24v24H0V0z\" fill=\"none\"/>\n",
              "    <path d=\"M18.56 5.44l.94 2.06.94-2.06 2.06-.94-2.06-.94-.94-2.06-.94 2.06-2.06.94zm-11 1L8.5 8.5l.94-2.06 2.06-.94-2.06-.94L8.5 2.5l-.94 2.06-2.06.94zm10 10l.94 2.06.94-2.06 2.06-.94-2.06-.94-.94-2.06-.94 2.06-2.06.94z\"/><path d=\"M17.41 7.96l-1.37-1.37c-.4-.4-.92-.59-1.43-.59-.52 0-1.04.2-1.43.59L10.3 9.45l-7.72 7.72c-.78.78-.78 2.05 0 2.83L4 21.41c.39.39.9.59 1.41.59.51 0 1.02-.2 1.41-.59l7.78-7.78 2.81-2.81c.8-.78.8-2.07 0-2.86zM5.41 20L4 18.59l7.72-7.72 1.47 1.35L5.41 20z\"/>\n",
              "  </svg>\n",
              "      </button>\n",
              "      \n",
              "  <style>\n",
              "    .colab-df-container {\n",
              "      display:flex;\n",
              "      flex-wrap:wrap;\n",
              "      gap: 12px;\n",
              "    }\n",
              "\n",
              "    .colab-df-convert {\n",
              "      background-color: #E8F0FE;\n",
              "      border: none;\n",
              "      border-radius: 50%;\n",
              "      cursor: pointer;\n",
              "      display: none;\n",
              "      fill: #1967D2;\n",
              "      height: 32px;\n",
              "      padding: 0 0 0 0;\n",
              "      width: 32px;\n",
              "    }\n",
              "\n",
              "    .colab-df-convert:hover {\n",
              "      background-color: #E2EBFA;\n",
              "      box-shadow: 0px 1px 2px rgba(60, 64, 67, 0.3), 0px 1px 3px 1px rgba(60, 64, 67, 0.15);\n",
              "      fill: #174EA6;\n",
              "    }\n",
              "\n",
              "    [theme=dark] .colab-df-convert {\n",
              "      background-color: #3B4455;\n",
              "      fill: #D2E3FC;\n",
              "    }\n",
              "\n",
              "    [theme=dark] .colab-df-convert:hover {\n",
              "      background-color: #434B5C;\n",
              "      box-shadow: 0px 1px 3px 1px rgba(0, 0, 0, 0.15);\n",
              "      filter: drop-shadow(0px 1px 2px rgba(0, 0, 0, 0.3));\n",
              "      fill: #FFFFFF;\n",
              "    }\n",
              "  </style>\n",
              "\n",
              "      <script>\n",
              "        const buttonEl =\n",
              "          document.querySelector('#df-67cc3806-36fb-4833-928e-c9b51dcc6233 button.colab-df-convert');\n",
              "        buttonEl.style.display =\n",
              "          google.colab.kernel.accessAllowed ? 'block' : 'none';\n",
              "\n",
              "        async function convertToInteractive(key) {\n",
              "          const element = document.querySelector('#df-67cc3806-36fb-4833-928e-c9b51dcc6233');\n",
              "          const dataTable =\n",
              "            await google.colab.kernel.invokeFunction('convertToInteractive',\n",
              "                                                     [key], {});\n",
              "          if (!dataTable) return;\n",
              "\n",
              "          const docLinkHtml = 'Like what you see? Visit the ' +\n",
              "            '<a target=\"_blank\" href=https://colab.research.google.com/notebooks/data_table.ipynb>data table notebook</a>'\n",
              "            + ' to learn more about interactive tables.';\n",
              "          element.innerHTML = '';\n",
              "          dataTable['output_type'] = 'display_data';\n",
              "          await google.colab.output.renderOutput(dataTable, element);\n",
              "          const docLink = document.createElement('div');\n",
              "          docLink.innerHTML = docLinkHtml;\n",
              "          element.appendChild(docLink);\n",
              "        }\n",
              "      </script>\n",
              "    </div>\n",
              "  </div>\n",
              "  "
            ]
          },
          "metadata": {},
          "execution_count": 13
        }
      ]
    },
    {
      "cell_type": "markdown",
      "source": [
        "Naturally, we wonder if there have been clear upward or downward trends in some or all of these audio features as popular music has evolved over time. If so, can we use these audio features to predict the year in which a song was released?"
      ],
      "metadata": {
        "id": "iRzke1C1JXUg"
      }
    },
    {
      "cell_type": "markdown",
      "source": [
        "To test this, let's create a linear regression model with terms for each of the audio features, and then analyze its ability to predict a song's release year.\n",
        "\n",
        "We set our X to be the audio features and our Y to be the year. We then split our data into 70% training data and 30% test data so we can test the performance of our model. We use the stratify parameter on Y to make sure our sample split has an equal proportion of entries from each year. We create the model using the training data.\n"
      ],
      "metadata": {
        "id": "QDE6J5uyJ5VA"
      }
    },
    {
      "cell_type": "code",
      "source": [
        "X = data[['danceability','energy','loudness','speechiness','acousticness','instrumentalness','liveness', 'valence', 'tempo']]\n",
        "Y = data['year']\n",
        "X_train, X_test, Y_train, Y_test = train_test_split(X, Y, test_size=0.3, random_state=1, stratify=Y)\n",
        "regr = linear_model.LinearRegression()\n",
        "regr.fit(X_train, Y_train)"
      ],
      "metadata": {
        "colab": {
          "base_uri": "https://localhost:8080/"
        },
        "id": "xf0RBq4BL5dj",
        "outputId": "002cdce9-9453-42db-f150-a46c2ba0eddc"
      },
      "execution_count": null,
      "outputs": [
        {
          "output_type": "execute_result",
          "data": {
            "text/plain": [
              "LinearRegression()"
            ]
          },
          "metadata": {},
          "execution_count": 14
        }
      ]
    },
    {
      "cell_type": "markdown",
      "source": [
        "Let's see what happens when we use this model to predict the year of a song. Since it's the first song in the dataframe, we'll use \"When I Was Your Man\" by Bruno Mars."
      ],
      "metadata": {
        "id": "MzQgx9f3xZYe"
      }
    },
    {
      "cell_type": "code",
      "source": [
        "regr.predict(data.head(1)[['danceability','energy','loudness','speechiness','acousticness','instrumentalness','liveness', 'valence', 'tempo']])[0]"
      ],
      "metadata": {
        "colab": {
          "base_uri": "https://localhost:8080/"
        },
        "id": "D-1YOCdSz2xX",
        "outputId": "9b957bfd-b695-4f7e-8b96-1349f0b0a0b2"
      },
      "execution_count": null,
      "outputs": [
        {
          "output_type": "execute_result",
          "data": {
            "text/plain": [
              "1998.2869743049728"
            ]
          },
          "metadata": {},
          "execution_count": 15
        }
      ]
    },
    {
      "cell_type": "markdown",
      "source": [
        "\"When I Was Your Man\" was released in 2012, so this is not a great prediction, but it could be a lot worse.\n",
        "\n",
        "With that said, one example is obviously not enough, so let's use the model to make predictions on the entire test data. "
      ],
      "metadata": {
        "id": "J08FfufL0rDl"
      }
    },
    {
      "cell_type": "code",
      "source": [
        "Y_pred = regr.predict(X_test)"
      ],
      "metadata": {
        "id": "G06ubnrQiNlS"
      },
      "execution_count": null,
      "outputs": []
    },
    {
      "cell_type": "markdown",
      "source": [
        "One way to measure the accuracy of our prediction is the mean squared error. This squares the difference between each prediciton and the associated actual value, sums the squared differences, and then divides by the number of predictions. We can use sklearn's mean_squared_error to calculate this. "
      ],
      "metadata": {
        "id": "dtCatH1_joS1"
      }
    },
    {
      "cell_type": "code",
      "source": [
        "mean_squared_error(Y_test,Y_pred)"
      ],
      "metadata": {
        "colab": {
          "base_uri": "https://localhost:8080/"
        },
        "id": "zy6dFgjPjp_X",
        "outputId": "0e122aa6-4115-41e0-e34c-8ba9fa8bc161"
      },
      "execution_count": null,
      "outputs": [
        {
          "output_type": "execute_result",
          "data": {
            "text/plain": [
              "120.41245286991732"
            ]
          },
          "metadata": {},
          "execution_count": 17
        }
      ]
    },
    {
      "cell_type": "markdown",
      "source": [
        "Our model can predict a song's year within roughly 11 years (square root of ~121) based on its audio features. This is decent, but can we make it better? Let's take a closer look at the audio features and see if we can create a more effective model. \n",
        "\n",
        "First, let's look at the linear regression model's coefficients for each audio feature to see which are most significant."
      ],
      "metadata": {
        "id": "4xVbrf3ukMAd"
      }
    },
    {
      "cell_type": "code",
      "source": [
        "print('Danceability Coefficient: ', regr.coef_[0])\n",
        "print('Energy Coefficient: ', regr.coef_[1])\n",
        "print('Loudness Coefficient: ', regr.coef_[2])\n",
        "print('Speechiness Coefficient: ', regr.coef_[3])\n",
        "print('Acousticness Coefficient: ', regr.coef_[4])\n",
        "print('Instrumentalness Coefficient: ', regr.coef_[5])\n",
        "print('Liveness Coefficient: ', regr.coef_[6])\n",
        "print('Valence Coefficient: ', regr.coef_[7])\n",
        "print('Tempo Coefficient: ', regr.coef_[8])"
      ],
      "metadata": {
        "colab": {
          "base_uri": "https://localhost:8080/"
        },
        "id": "hsnixNzdhOEM",
        "outputId": "3fcce6c0-a637-48ef-a863-c1b4ece7c692"
      },
      "execution_count": null,
      "outputs": [
        {
          "output_type": "stream",
          "name": "stdout",
          "text": [
            "Danceability Coefficient:  21.920372730510753\n",
            "Energy Coefficient:  -22.02171517140404\n",
            "Loudness Coefficient:  3.0497097725956746\n",
            "Speechiness Coefficient:  32.65708409650382\n",
            "Acousticness Coefficient:  -5.049945066360155\n",
            "Instrumentalness Coefficient:  -14.358661458553645\n",
            "Liveness Coefficient:  0.06809687990430732\n",
            "Valence Coefficient:  -14.725429469947404\n",
            "Tempo Coefficient:  0.03421208692171618\n"
          ]
        }
      ]
    },
    {
      "cell_type": "markdown",
      "source": [
        "We can see that danceability, energy, and speechiness are by far the most influential factors in our model. Loudness, liveness, and tempo, on the other hand, are mostly insignificant. \n",
        "\n",
        "Next, let's graph the features' per-year averages over time to get a better idea of their trends. We create a separate graph for loudness because it is not on a 0 to 1 scale, so its presence would throw off the scale of the graph. We omit tempo for the same reason, and because its coefficient is so low that we know it's mostly independent of time anyway.\n",
        "\n",
        "We sort the dataframe by year so we can plot the features in order with respect to time. For each feature, we plot year on the x axis, and on the y axis, we group the data by year and find the average for that feature for each year. We plot danceability in blue, energy in green, speechiness in red, acousticness in cyan, instrumentalness in magenta, liveness in yellow, and valence in black. We use matplotlib's subplots to plot loudness over time adjacently. "
      ],
      "metadata": {
        "id": "4n_NHv4llWrI"
      }
    },
    {
      "cell_type": "code",
      "source": [
        "data = data.sort_values(by=['year'])\n",
        "fig, (ax1, ax2) = plt.subplots(1, 2, figsize=(15,4))\n",
        "ax1.plot(pd.unique(data['year']), data.groupby(['year'])['danceability'].mean(), 'b')\n",
        "ax1.plot(pd.unique(data['year']), data.groupby(['year'])['energy'].mean(), 'g')\n",
        "ax1.plot(pd.unique(data['year']), data.groupby(['year'])['speechiness'].mean(), 'r')\n",
        "ax1.plot(pd.unique(data['year']), data.groupby(['year'])['acousticness'].mean(), 'c')\n",
        "ax1.plot(pd.unique(data['year']), data.groupby(['year'])['instrumentalness'].mean(), 'm')\n",
        "ax1.plot(pd.unique(data['year']), data.groupby(['year'])['liveness'].mean(), 'y')\n",
        "ax1.plot(pd.unique(data['year']), data.groupby(['year'])['valence'].mean(), 'k')\n",
        "ax1.set_title('Averages of Audio Features vs. Time')\n",
        "ax1.set(xlabel='Year', ylabel='Audio Features')\n",
        "ax2.plot(pd.unique(data['year']), data.groupby(['year'])['loudness'].mean())\n",
        "ax2.set_title('Average Loudness vs. Time')\n",
        "ax2.set(xlabel='Year', ylabel='Loudness (dB)')\n",
        "plt.show()"
      ],
      "metadata": {
        "colab": {
          "base_uri": "https://localhost:8080/",
          "height": 295
        },
        "id": "-CHn7mdomdUP",
        "outputId": "c4f90384-8eb2-41da-d5d4-f24d7103b69e"
      },
      "execution_count": null,
      "outputs": [
        {
          "output_type": "display_data",
          "data": {
            "text/plain": [
              "<Figure size 1080x288 with 2 Axes>"
            ],
            "image/png": "[encoded data removed]"
          },
          "metadata": {
            "needs_background": "light"
          }
        }
      ]
    },
    {
      "cell_type": "markdown",
      "source": [
        "These graphs illustrate the problem with our previous model: most of these features did not experience linear or strictly increasing/decreasing trends, so we can't expect a linear regression to effectively model the data and make accurate predictions. Specifically notice how valence (black) and acousticness (cyan) fluctuate significantly and irregularly over time. Also, notice that, as the coefficient indicates, liveness (yellow) shows no large scale pattern or trend."
      ],
      "metadata": {
        "id": "J9JgrY76t8e2"
      }
    },
    {
      "cell_type": "markdown",
      "source": [
        "Let's try a non-linear regression approach to see if we can better model this data. Let's also refrain from using the data for loudness, liveness, and tempo, because as we've seen, these features are largely independent of time. \n",
        "\n",
        "We'll use sklearn's decision tree regressor, using the same split between training and test data as before. Our input data will be limited to the features we've decided are significant: danceability, energy, speechiness, acousticness, instrumentalness, and valence. "
      ],
      "metadata": {
        "id": "yIgJSiqSGGiL"
      }
    },
    {
      "cell_type": "code",
      "source": [
        "X = data[['danceability','energy', 'speechiness', 'acousticness','instrumentalness','valence']]\n",
        "Y = data['year']\n",
        "X_train, X_test, Y_train, Y_test = train_test_split(X, Y, test_size=0.3, random_state=1, stratify=Y)"
      ],
      "metadata": {
        "id": "Ir1sSf61E5C0"
      },
      "execution_count": null,
      "outputs": []
    },
    {
      "cell_type": "markdown",
      "source": [
        "We train the model using the test data."
      ],
      "metadata": {
        "id": "Z2DivBQfIAzV"
      }
    },
    {
      "cell_type": "code",
      "source": [
        "decision_tree = DecisionTreeRegressor(random_state=1)\n",
        "decision_tree = decision_tree.fit(X_train, Y_train)"
      ],
      "metadata": {
        "id": "fGyfWUaWwQiD"
      },
      "execution_count": null,
      "outputs": []
    },
    {
      "cell_type": "markdown",
      "source": [
        "And again, we make predictions on the test data and view the mean squared error. "
      ],
      "metadata": {
        "id": "AkWoGtmFCehC"
      }
    },
    {
      "cell_type": "code",
      "source": [
        "Y_pred_tree = decision_tree.predict(X_test)\n",
        "mean_squared_error(Y_test, Y_pred_tree)"
      ],
      "metadata": {
        "colab": {
          "base_uri": "https://localhost:8080/"
        },
        "id": "4gNmqBswCfHl",
        "outputId": "ff4a2ad0-ebae-499b-e056-68091fa0ee5a"
      },
      "execution_count": null,
      "outputs": [
        {
          "output_type": "execute_result",
          "data": {
            "text/plain": [
              "1.2082519641076344"
            ]
          },
          "metadata": {},
          "execution_count": 22
        }
      ]
    },
    {
      "cell_type": "markdown",
      "source": [
        "The result is a mean squared error of 1.2, which is far better than our original linear regression model. We can successfully predict the year of a number 1 charting song within just over a year based on a selection of its audio features. This is illustrative of just how strong trends in music are, as well as how good Spotify's audio features are at quantifying sonic characteristics. "
      ],
      "metadata": {
        "id": "ZTVKWDRqR6I8"
      }
    },
    {
      "cell_type": "markdown",
      "metadata": {
        "id": "QCgKOImE2Ky-"
      },
      "source": [
        "##TANAYA"
      ]
    },
    {
      "cell_type": "markdown",
      "source": [
        "In this section, we can explore the various audio features as they relate to popularity in order to see if there are any meaningful correlations and if so, if it is possible to predict some level of popularity for a song based solely off of Spotify's audio features. The first step would be to import the neccessary libraries and datasets. The dataset used here is all the popular songs since 2017, including statistics about their popularity and audio features extracted using Spotify's API.\n",
        "\n"
      ],
      "metadata": {
        "id": "DSSx28Q0bA2h"
      }
    },
    {
      "cell_type": "code",
      "source": [
        "import pandas as pd\n",
        "pop_data = pd.read_csv(\"data_2017_full.csv\")\n",
        "pop_data.head()"
      ],
      "metadata": {
        "id": "eFuwrJ6WY8Wy",
        "colab": {
          "base_uri": "https://localhost:8080/",
          "height": 461
        },
        "outputId": "60ec6ea3-f02a-40b9-8236-d25aef4a3ba4"
      },
      "execution_count": null,
      "outputs": [
        {
          "output_type": "execute_result",
          "data": {
            "text/plain": [
              "   Unnamed: 0        date  rank           song                         artist  \\\n",
              "0           0  2021-11-06     1     Easy On Me                          Adele   \n",
              "1           1  2021-11-06     2           Stay  The Kid LAROI & Justin Bieber   \n",
              "2           2  2021-11-06     3  Industry Baby        Lil Nas X & Jack Harlow   \n",
              "3           3  2021-11-06     4     Fancy Like                   Walker Hayes   \n",
              "4           4  2021-11-06     5     Bad Habits                     Ed Sheeran   \n",
              "\n",
              "   last-week  peak-rank  weeks-on-board                                   uri  \\\n",
              "0        1.0          1               3  spotify:track:0gplL1WMoJ6iYaPgMCL0gX   \n",
              "1        2.0          1              16  spotify:track:5HCyWlXZPP0y6Gqq8TgA20   \n",
              "2        3.0          1              14  spotify:track:27NovPIUIRrOZoCHxABJwK   \n",
              "3        4.0          3              19  spotify:track:58UKC45GPNTflCN6nwCUeF   \n",
              "4        5.0          2              18  spotify:track:3rmo8F54jFF8OgYsqTxm5d   \n",
              "\n",
              "   danceability  energy  loudness  speechiness  acousticness  \\\n",
              "0         0.604   0.366    -7.519       0.0282        0.5780   \n",
              "1         0.591   0.764    -5.484       0.0483        0.0383   \n",
              "2         0.736   0.704    -7.409       0.0615        0.0203   \n",
              "3         0.647   0.765    -6.459       0.0600        0.1110   \n",
              "4         0.807   0.893    -3.745       0.0347        0.0451   \n",
              "\n",
              "   instrumentalness  liveness  valence    tempo  year  \n",
              "0          0.000000    0.1330    0.130  141.981   NaN  \n",
              "1          0.000000    0.1030    0.478  169.928   NaN  \n",
              "2          0.000000    0.0501    0.894  149.995   NaN  \n",
              "3          0.000000    0.3150    0.855   79.994   NaN  \n",
              "4          0.000028    0.3660    0.537  126.011   NaN  "
            ],
            "text/html": [
              "\n",
              "  <div id=\"df-702a64fc-f1b0-44a8-adbe-0e61fc14e5f5\">\n",
              "    <div class=\"colab-df-container\">\n",
              "      <div>\n",
              "<style scoped>\n",
              "    .dataframe tbody tr th:only-of-type {\n",
              "        vertical-align: middle;\n",
              "    }\n",
              "\n",
              "    .dataframe tbody tr th {\n",
              "        vertical-align: top;\n",
              "    }\n",
              "\n",
              "    .dataframe thead th {\n",
              "        text-align: right;\n",
              "    }\n",
              "</style>\n",
              "<table border=\"1\" class=\"dataframe\">\n",
              "  <thead>\n",
              "    <tr style=\"text-align: right;\">\n",
              "      <th></th>\n",
              "      <th>Unnamed: 0</th>\n",
              "      <th>date</th>\n",
              "      <th>rank</th>\n",
              "      <th>song</th>\n",
              "      <th>artist</th>\n",
              "      <th>last-week</th>\n",
              "      <th>peak-rank</th>\n",
              "      <th>weeks-on-board</th>\n",
              "      <th>uri</th>\n",
              "      <th>danceability</th>\n",
              "      <th>energy</th>\n",
              "      <th>loudness</th>\n",
              "      <th>speechiness</th>\n",
              "      <th>acousticness</th>\n",
              "      <th>instrumentalness</th>\n",
              "      <th>liveness</th>\n",
              "      <th>valence</th>\n",
              "      <th>tempo</th>\n",
              "      <th>year</th>\n",
              "    </tr>\n",
              "  </thead>\n",
              "  <tbody>\n",
              "    <tr>\n",
              "      <th>0</th>\n",
              "      <td>0</td>\n",
              "      <td>2021-11-06</td>\n",
              "      <td>1</td>\n",
              "      <td>Easy On Me</td>\n",
              "      <td>Adele</td>\n",
              "      <td>1.0</td>\n",
              "      <td>1</td>\n",
              "      <td>3</td>\n",
              "      <td>spotify:track:0gplL1WMoJ6iYaPgMCL0gX</td>\n",
              "      <td>0.604</td>\n",
              "      <td>0.366</td>\n",
              "      <td>-7.519</td>\n",
              "      <td>0.0282</td>\n",
              "      <td>0.5780</td>\n",
              "      <td>0.000000</td>\n",
              "      <td>0.1330</td>\n",
              "      <td>0.130</td>\n",
              "      <td>141.981</td>\n",
              "      <td>NaN</td>\n",
              "    </tr>\n",
              "    <tr>\n",
              "      <th>1</th>\n",
              "      <td>1</td>\n",
              "      <td>2021-11-06</td>\n",
              "      <td>2</td>\n",
              "      <td>Stay</td>\n",
              "      <td>The Kid LAROI &amp; Justin Bieber</td>\n",
              "      <td>2.0</td>\n",
              "      <td>1</td>\n",
              "      <td>16</td>\n",
              "      <td>spotify:track:5HCyWlXZPP0y6Gqq8TgA20</td>\n",
              "      <td>0.591</td>\n",
              "      <td>0.764</td>\n",
              "      <td>-5.484</td>\n",
              "      <td>0.0483</td>\n",
              "      <td>0.0383</td>\n",
              "      <td>0.000000</td>\n",
              "      <td>0.1030</td>\n",
              "      <td>0.478</td>\n",
              "      <td>169.928</td>\n",
              "      <td>NaN</td>\n",
              "    </tr>\n",
              "    <tr>\n",
              "      <th>2</th>\n",
              "      <td>2</td>\n",
              "      <td>2021-11-06</td>\n",
              "      <td>3</td>\n",
              "      <td>Industry Baby</td>\n",
              "      <td>Lil Nas X &amp; Jack Harlow</td>\n",
              "      <td>3.0</td>\n",
              "      <td>1</td>\n",
              "      <td>14</td>\n",
              "      <td>spotify:track:27NovPIUIRrOZoCHxABJwK</td>\n",
              "      <td>0.736</td>\n",
              "      <td>0.704</td>\n",
              "      <td>-7.409</td>\n",
              "      <td>0.0615</td>\n",
              "      <td>0.0203</td>\n",
              "      <td>0.000000</td>\n",
              "      <td>0.0501</td>\n",
              "      <td>0.894</td>\n",
              "      <td>149.995</td>\n",
              "      <td>NaN</td>\n",
              "    </tr>\n",
              "    <tr>\n",
              "      <th>3</th>\n",
              "      <td>3</td>\n",
              "      <td>2021-11-06</td>\n",
              "      <td>4</td>\n",
              "      <td>Fancy Like</td>\n",
              "      <td>Walker Hayes</td>\n",
              "      <td>4.0</td>\n",
              "      <td>3</td>\n",
              "      <td>19</td>\n",
              "      <td>spotify:track:58UKC45GPNTflCN6nwCUeF</td>\n",
              "      <td>0.647</td>\n",
              "      <td>0.765</td>\n",
              "      <td>-6.459</td>\n",
              "      <td>0.0600</td>\n",
              "      <td>0.1110</td>\n",
              "      <td>0.000000</td>\n",
              "      <td>0.3150</td>\n",
              "      <td>0.855</td>\n",
              "      <td>79.994</td>\n",
              "      <td>NaN</td>\n",
              "    </tr>\n",
              "    <tr>\n",
              "      <th>4</th>\n",
              "      <td>4</td>\n",
              "      <td>2021-11-06</td>\n",
              "      <td>5</td>\n",
              "      <td>Bad Habits</td>\n",
              "      <td>Ed Sheeran</td>\n",
              "      <td>5.0</td>\n",
              "      <td>2</td>\n",
              "      <td>18</td>\n",
              "      <td>spotify:track:3rmo8F54jFF8OgYsqTxm5d</td>\n",
              "      <td>0.807</td>\n",
              "      <td>0.893</td>\n",
              "      <td>-3.745</td>\n",
              "      <td>0.0347</td>\n",
              "      <td>0.0451</td>\n",
              "      <td>0.000028</td>\n",
              "      <td>0.3660</td>\n",
              "      <td>0.537</td>\n",
              "      <td>126.011</td>\n",
              "      <td>NaN</td>\n",
              "    </tr>\n",
              "  </tbody>\n",
              "</table>\n",
              "</div>\n",
              "      <button class=\"colab-df-convert\" onclick=\"convertToInteractive('df-702a64fc-f1b0-44a8-adbe-0e61fc14e5f5')\"\n",
              "              title=\"Convert this dataframe to an interactive table.\"\n",
              "              style=\"display:none;\">\n",
              "        \n",
              "  <svg xmlns=\"http://www.w3.org/2000/svg\" height=\"24px\"viewBox=\"0 0 24 24\"\n",
              "       width=\"24px\">\n",
              "    <path d=\"M0 0h24v24H0V0z\" fill=\"none\"/>\n",
              "    <path d=\"M18.56 5.44l.94 2.06.94-2.06 2.06-.94-2.06-.94-.94-2.06-.94 2.06-2.06.94zm-11 1L8.5 8.5l.94-2.06 2.06-.94-2.06-.94L8.5 2.5l-.94 2.06-2.06.94zm10 10l.94 2.06.94-2.06 2.06-.94-2.06-.94-.94-2.06-.94 2.06-2.06.94z\"/><path d=\"M17.41 7.96l-1.37-1.37c-.4-.4-.92-.59-1.43-.59-.52 0-1.04.2-1.43.59L10.3 9.45l-7.72 7.72c-.78.78-.78 2.05 0 2.83L4 21.41c.39.39.9.59 1.41.59.51 0 1.02-.2 1.41-.59l7.78-7.78 2.81-2.81c.8-.78.8-2.07 0-2.86zM5.41 20L4 18.59l7.72-7.72 1.47 1.35L5.41 20z\"/>\n",
              "  </svg>\n",
              "      </button>\n",
              "      \n",
              "  <style>\n",
              "    .colab-df-container {\n",
              "      display:flex;\n",
              "      flex-wrap:wrap;\n",
              "      gap: 12px;\n",
              "    }\n",
              "\n",
              "    .colab-df-convert {\n",
              "      background-color: #E8F0FE;\n",
              "      border: none;\n",
              "      border-radius: 50%;\n",
              "      cursor: pointer;\n",
              "      display: none;\n",
              "      fill: #1967D2;\n",
              "      height: 32px;\n",
              "      padding: 0 0 0 0;\n",
              "      width: 32px;\n",
              "    }\n",
              "\n",
              "    .colab-df-convert:hover {\n",
              "      background-color: #E2EBFA;\n",
              "      box-shadow: 0px 1px 2px rgba(60, 64, 67, 0.3), 0px 1px 3px 1px rgba(60, 64, 67, 0.15);\n",
              "      fill: #174EA6;\n",
              "    }\n",
              "\n",
              "    [theme=dark] .colab-df-convert {\n",
              "      background-color: #3B4455;\n",
              "      fill: #D2E3FC;\n",
              "    }\n",
              "\n",
              "    [theme=dark] .colab-df-convert:hover {\n",
              "      background-color: #434B5C;\n",
              "      box-shadow: 0px 1px 3px 1px rgba(0, 0, 0, 0.15);\n",
              "      filter: drop-shadow(0px 1px 2px rgba(0, 0, 0, 0.3));\n",
              "      fill: #FFFFFF;\n",
              "    }\n",
              "  </style>\n",
              "\n",
              "      <script>\n",
              "        const buttonEl =\n",
              "          document.querySelector('#df-702a64fc-f1b0-44a8-adbe-0e61fc14e5f5 button.colab-df-convert');\n",
              "        buttonEl.style.display =\n",
              "          google.colab.kernel.accessAllowed ? 'block' : 'none';\n",
              "\n",
              "        async function convertToInteractive(key) {\n",
              "          const element = document.querySelector('#df-702a64fc-f1b0-44a8-adbe-0e61fc14e5f5');\n",
              "          const dataTable =\n",
              "            await google.colab.kernel.invokeFunction('convertToInteractive',\n",
              "                                                     [key], {});\n",
              "          if (!dataTable) return;\n",
              "\n",
              "          const docLinkHtml = 'Like what you see? Visit the ' +\n",
              "            '<a target=\"_blank\" href=https://colab.research.google.com/notebooks/data_table.ipynb>data table notebook</a>'\n",
              "            + ' to learn more about interactive tables.';\n",
              "          element.innerHTML = '';\n",
              "          dataTable['output_type'] = 'display_data';\n",
              "          await google.colab.output.renderOutput(dataTable, element);\n",
              "          const docLink = document.createElement('div');\n",
              "          docLink.innerHTML = docLinkHtml;\n",
              "          element.appendChild(docLink);\n",
              "        }\n",
              "      </script>\n",
              "    </div>\n",
              "  </div>\n",
              "  "
            ]
          },
          "metadata": {},
          "execution_count": 7
        }
      ]
    },
    {
      "cell_type": "markdown",
      "source": [
        "Looking at the dataset, it looks like one measure of popularity we can use here is peak rank. We can generate some graphs to see if a pattern emerges between peak rank and the audio features. \n",
        "\n",
        "---\n",
        "\n"
      ],
      "metadata": {
        "id": "v9_CX8zPdxs1"
      }
    }
  ],
  "metadata": {
    "colab": {
      "collapsed_sections": [],
      "name": "320final.ipynb",
      "provenance": []
    },
    "kernelspec": {
      "display_name": "Python 3",
      "name": "python3"
    },
    "language_info": {
      "name": "python"
    }
  },
  "nbformat": 4,
  "nbformat_minor": 0
}